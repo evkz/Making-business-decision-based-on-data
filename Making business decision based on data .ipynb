{
 "cells": [
  {
   "cell_type": "markdown",
   "metadata": {},
   "source": [
    "# Making business decision based on data"
   ]
  },
  {
   "cell_type": "markdown",
   "metadata": {},
   "source": [
    "#### Project description\n",
    "*  For the analytical department of a big online store, a list of hypotheses was compiled that may help boost the revenue.\n",
    "   There is a need to:\n",
    "   * prioritize these hypotheses\n",
    "   * launch an A/B test\n",
    "   * analyze the results\n",
    "   * We have:\n",
    "        * hypotheses_us.csv - contains nine hypotheses on boosting an online store revenue\n",
    "        * orders_us.csv: data on visits, orders, dates, and revenues, categorize by A/B group\n",
    "        * visits_us.csv: data on visits and dates, categorize by A/B group\n",
    "        \n",
    "   "
   ]
  },
  {
   "cell_type": "markdown",
   "metadata": {},
   "source": [
    "#### Table of contents: \n",
    "\n",
    "* [Description of the data: ](#Description-of-the-data)\n",
    "\n",
    "* [Load the libraries and the data:](#Load-the-libraries-and--the-data:)\n",
    "\n",
    "* [Preprocessing the data](#Preprocessing-the-data:)\n",
    "\n",
    "* [Part 1. Prioritizing Hypotheses:](#Part-1.-Prioritizing-Hypotheses:)\n",
    "\n",
    "* [Part 2. A/B Test Analysis:](#Part-2.-A/B-Test-Analysis:)\n",
    "\n",
    "   * a.[plot cumulative revenue graph by day and A/B test group:](#plot-cumulative-revenue-graph-by-day-and-A/B-test-group:)\n",
    "   \n",
    "   * b.[plot the cumulative average order size for group A compared with group B:](#plot-the-cumulative-average-order-size-for-group-A-compared-with-group-B:)\n",
    "   \n",
    "   * c.[plot a relative difference graph for average purchase size:](#plot-a-relative-difference-graph-for-average-purchase-size:)\n",
    "   \n",
    "   * d.[caculate each group converstion rate:](#caculate-each-group-converstion-rate:)\n",
    "   \n",
    "   * e.[plot a scatter chart of number of orders per user:](#plot-a-scatter-chart-of-number-of-orders-per-user:)\n",
    "   \n",
    "   * f.[calculate the 95th and 99th percentiles for number of orders per user:](#calculate-the-95th-and-99th-percentiles-for-number-of-orders-per-user:)\n",
    "   * g.[calculate the 95th and 99th percentiles for order price:](#calculate-the-95th-and-99th-percentiles-for-order-price:)\n",
    "\n",
    "   * h. [find the statistical significance of the difference in converstion rate between groups using raw data:](#find-the-statistical-significance-of-the-difference-in-converstion-between-groups-using-raw-data:)\n",
    "\n",
    "   * I. [find the statistical significance of the difference in avg order size between groups using raw data:](#find-the-statistical-significance-of-the-difference-in-avg-order-size-between-groups-using-raw-data:)\n",
    "   \n",
    "   * j.[find the statistical significance of the difference in converstion rate between groups using clean data:](#find-the-statistical-significance-of-the-difference-in-converstion-between-groups-using-new-data:)\n",
    "   \n",
    "   * k.[find the statistical significance of the difference in avg order size between groups using clean data:](#find-the-statistical-significance-of-the-difference-in-avg-order-size-between-groups-using-new-data:)\n",
    "\n",
    "* [Part 3. Conclution:](#conclution:)"
   ]
  },
  {
   "cell_type": "markdown",
   "metadata": {},
   "source": [
    "##### Description of the data\n",
    "\n",
    "* hypotheses_us.csv as hypo:\n",
    "    * Hypotheses — brief descriptions of the hypotheses\n",
    "    * Reach — user reach, on a scale of one to ten\n",
    "    * Impact — impact on users, on a scale of one to ten\n",
    "    * Confidence — confidence in the hypothesis, on a scale of one to ten\n",
    "    * Effort — the resources required to test a hypothesis, on a scale of one to ten. The higher the Effort value, the more resource-intensive the test.\n"
   ]
  },
  {
   "cell_type": "markdown",
   "metadata": {},
   "source": [
    "* orders_us.csv as orders: \n",
    "    * transactionId — order identifier\n",
    "    * visitorId — identifier of the user who placed the order\n",
    "    * date — of the order\n",
    "    * revenue — from the order\n",
    "    * group — the A/B test group that the user belongs to\n",
    "    \n"
   ]
  },
  {
   "cell_type": "markdown",
   "metadata": {},
   "source": [
    "* visits_us.csv as visits:\n",
    "    * date — date\n",
    "    * group — A/B test group\n",
    "    * visits — the number of visits on the date specified in the A/B test group specified"
   ]
  },
  {
   "cell_type": "markdown",
   "metadata": {},
   "source": [
    "#### Load the libraries and  the data:"
   ]
  },
  {
   "cell_type": "code",
   "execution_count": 71,
   "metadata": {},
   "outputs": [],
   "source": [
    "# Loading all the libraries\n",
    "import pandas as pd\n",
    "import numpy as np\n",
    "import matplotlib.pyplot as plt\n",
    "import datetime as dt\n",
    "import matplotlib.dates as mdates\n",
    "import seaborn as sns\n",
    "from scipy import stats as st\n",
    "from pandas_profiling import ProfileReport"
   ]
  },
  {
   "cell_type": "code",
   "execution_count": 72,
   "metadata": {},
   "outputs": [],
   "source": [
    "# Load hypotheses_us.csv:\n",
    "try:\n",
    "    hypo = pd.read_csv('/datasets/hypotheses_us.csv', sep=';')\n",
    "except:\n",
    "     hypo = pd.read_csv('hypotheses_us.csv', sep=';')\n"
   ]
  },
  {
   "cell_type": "code",
   "execution_count": 73,
   "metadata": {},
   "outputs": [
    {
     "data": {
      "text/html": [
       "<div>\n",
       "<style scoped>\n",
       "    .dataframe tbody tr th:only-of-type {\n",
       "        vertical-align: middle;\n",
       "    }\n",
       "\n",
       "    .dataframe tbody tr th {\n",
       "        vertical-align: top;\n",
       "    }\n",
       "\n",
       "    .dataframe thead th {\n",
       "        text-align: right;\n",
       "    }\n",
       "</style>\n",
       "<table border=\"1\" class=\"dataframe\">\n",
       "  <thead>\n",
       "    <tr style=\"text-align: right;\">\n",
       "      <th></th>\n",
       "      <th>Hypothesis</th>\n",
       "      <th>Reach</th>\n",
       "      <th>Impact</th>\n",
       "      <th>Confidence</th>\n",
       "      <th>Effort</th>\n",
       "    </tr>\n",
       "  </thead>\n",
       "  <tbody>\n",
       "    <tr>\n",
       "      <th>0</th>\n",
       "      <td>Add two new channels for attracting traffic. This will bring 30% more users</td>\n",
       "      <td>3</td>\n",
       "      <td>10</td>\n",
       "      <td>8</td>\n",
       "      <td>6</td>\n",
       "    </tr>\n",
       "    <tr>\n",
       "      <th>1</th>\n",
       "      <td>Launch your own delivery service. This will shorten delivery time</td>\n",
       "      <td>2</td>\n",
       "      <td>5</td>\n",
       "      <td>4</td>\n",
       "      <td>10</td>\n",
       "    </tr>\n",
       "    <tr>\n",
       "      <th>2</th>\n",
       "      <td>Add product recommendation blocks to the store's site. This will increase conversion and average purchase size</td>\n",
       "      <td>8</td>\n",
       "      <td>3</td>\n",
       "      <td>7</td>\n",
       "      <td>3</td>\n",
       "    </tr>\n",
       "    <tr>\n",
       "      <th>3</th>\n",
       "      <td>Change the category structure. This will increase conversion since users will find the products they want more quickly</td>\n",
       "      <td>8</td>\n",
       "      <td>3</td>\n",
       "      <td>3</td>\n",
       "      <td>8</td>\n",
       "    </tr>\n",
       "    <tr>\n",
       "      <th>4</th>\n",
       "      <td>Change the background color on the main page. This will increase user engagement</td>\n",
       "      <td>3</td>\n",
       "      <td>1</td>\n",
       "      <td>1</td>\n",
       "      <td>1</td>\n",
       "    </tr>\n",
       "    <tr>\n",
       "      <th>5</th>\n",
       "      <td>Add a customer review page. This will increase the number of orders</td>\n",
       "      <td>3</td>\n",
       "      <td>2</td>\n",
       "      <td>2</td>\n",
       "      <td>3</td>\n",
       "    </tr>\n",
       "    <tr>\n",
       "      <th>6</th>\n",
       "      <td>Show banners with current offers and sales on the main page. This will boost conversion</td>\n",
       "      <td>5</td>\n",
       "      <td>3</td>\n",
       "      <td>8</td>\n",
       "      <td>3</td>\n",
       "    </tr>\n",
       "    <tr>\n",
       "      <th>7</th>\n",
       "      <td>Add a subscription form to all the main pages. This will help you compile a mailing list</td>\n",
       "      <td>10</td>\n",
       "      <td>7</td>\n",
       "      <td>8</td>\n",
       "      <td>5</td>\n",
       "    </tr>\n",
       "    <tr>\n",
       "      <th>8</th>\n",
       "      <td>Launch a promotion that gives users discounts on their birthdays</td>\n",
       "      <td>1</td>\n",
       "      <td>9</td>\n",
       "      <td>9</td>\n",
       "      <td>5</td>\n",
       "    </tr>\n",
       "  </tbody>\n",
       "</table>\n",
       "</div>"
      ],
      "text/plain": [
       "                                                                                                               Hypothesis  \\\n",
       "0                                             Add two new channels for attracting traffic. This will bring 30% more users   \n",
       "1                                                       Launch your own delivery service. This will shorten delivery time   \n",
       "2          Add product recommendation blocks to the store's site. This will increase conversion and average purchase size   \n",
       "3  Change the category structure. This will increase conversion since users will find the products they want more quickly   \n",
       "4                                        Change the background color on the main page. This will increase user engagement   \n",
       "5                                                     Add a customer review page. This will increase the number of orders   \n",
       "6                                 Show banners with current offers and sales on the main page. This will boost conversion   \n",
       "7                                Add a subscription form to all the main pages. This will help you compile a mailing list   \n",
       "8                                                        Launch a promotion that gives users discounts on their birthdays   \n",
       "\n",
       "   Reach  Impact  Confidence  Effort  \n",
       "0      3      10           8       6  \n",
       "1      2       5           4      10  \n",
       "2      8       3           7       3  \n",
       "3      8       3           3       8  \n",
       "4      3       1           1       1  \n",
       "5      3       2           2       3  \n",
       "6      5       3           8       3  \n",
       "7     10       7           8       5  \n",
       "8      1       9           9       5  "
      ]
     },
     "execution_count": 73,
     "metadata": {},
     "output_type": "execute_result"
    }
   ],
   "source": [
    "pd.set_option('display.max_colwidth', None)\n",
    "hypo"
   ]
  },
  {
   "cell_type": "code",
   "execution_count": 74,
   "metadata": {},
   "outputs": [
    {
     "name": "stdout",
     "output_type": "stream",
     "text": [
      "<class 'pandas.core.frame.DataFrame'>\n",
      "RangeIndex: 1197 entries, 0 to 1196\n",
      "Data columns (total 5 columns):\n",
      " #   Column         Non-Null Count  Dtype  \n",
      "---  ------         --------------  -----  \n",
      " 0   transactionId  1197 non-null   int64  \n",
      " 1   visitorId      1197 non-null   int64  \n",
      " 2   date           1197 non-null   object \n",
      " 3   revenue        1197 non-null   float64\n",
      " 4   group          1197 non-null   object \n",
      "dtypes: float64(1), int64(2), object(2)\n",
      "memory usage: 46.9+ KB\n"
     ]
    },
    {
     "data": {
      "text/html": [
       "<div>\n",
       "<style scoped>\n",
       "    .dataframe tbody tr th:only-of-type {\n",
       "        vertical-align: middle;\n",
       "    }\n",
       "\n",
       "    .dataframe tbody tr th {\n",
       "        vertical-align: top;\n",
       "    }\n",
       "\n",
       "    .dataframe thead th {\n",
       "        text-align: right;\n",
       "    }\n",
       "</style>\n",
       "<table border=\"1\" class=\"dataframe\">\n",
       "  <thead>\n",
       "    <tr style=\"text-align: right;\">\n",
       "      <th></th>\n",
       "      <th>transactionId</th>\n",
       "      <th>visitorId</th>\n",
       "      <th>date</th>\n",
       "      <th>revenue</th>\n",
       "      <th>group</th>\n",
       "    </tr>\n",
       "  </thead>\n",
       "  <tbody>\n",
       "    <tr>\n",
       "      <th>0</th>\n",
       "      <td>3667963787</td>\n",
       "      <td>3312258926</td>\n",
       "      <td>2019-08-15</td>\n",
       "      <td>30.4</td>\n",
       "      <td>B</td>\n",
       "    </tr>\n",
       "    <tr>\n",
       "      <th>1</th>\n",
       "      <td>2804400009</td>\n",
       "      <td>3642806036</td>\n",
       "      <td>2019-08-15</td>\n",
       "      <td>15.2</td>\n",
       "      <td>B</td>\n",
       "    </tr>\n",
       "    <tr>\n",
       "      <th>2</th>\n",
       "      <td>2961555356</td>\n",
       "      <td>4069496402</td>\n",
       "      <td>2019-08-15</td>\n",
       "      <td>10.2</td>\n",
       "      <td>A</td>\n",
       "    </tr>\n",
       "    <tr>\n",
       "      <th>3</th>\n",
       "      <td>3797467345</td>\n",
       "      <td>1196621759</td>\n",
       "      <td>2019-08-15</td>\n",
       "      <td>155.1</td>\n",
       "      <td>B</td>\n",
       "    </tr>\n",
       "  </tbody>\n",
       "</table>\n",
       "</div>"
      ],
      "text/plain": [
       "   transactionId   visitorId        date  revenue group\n",
       "0     3667963787  3312258926  2019-08-15     30.4     B\n",
       "1     2804400009  3642806036  2019-08-15     15.2     B\n",
       "2     2961555356  4069496402  2019-08-15     10.2     A\n",
       "3     3797467345  1196621759  2019-08-15    155.1     B"
      ]
     },
     "execution_count": 74,
     "metadata": {},
     "output_type": "execute_result"
    }
   ],
   "source": [
    "# Load 'orders_us.csv' data:\n",
    "try:\n",
    "    orders = pd.read_csv('/datasets/orders_us.csv')\n",
    "except:\n",
    "     orders = pd.read_csv('orders_us.csv')\n",
    "\n",
    "# orders['date'] = orders['date'].map(lambda x: dt.datetime.strptime(x, '%Y-%m-%d'))\n",
    "    \n",
    "orders.info()\n",
    "orders.head(4)"
   ]
  },
  {
   "cell_type": "code",
   "execution_count": 75,
   "metadata": {},
   "outputs": [
    {
     "name": "stdout",
     "output_type": "stream",
     "text": [
      "<class 'pandas.core.frame.DataFrame'>\n",
      "RangeIndex: 62 entries, 0 to 61\n",
      "Data columns (total 3 columns):\n",
      " #   Column  Non-Null Count  Dtype \n",
      "---  ------  --------------  ----- \n",
      " 0   date    62 non-null     object\n",
      " 1   group   62 non-null     object\n",
      " 2   visits  62 non-null     int64 \n",
      "dtypes: int64(1), object(2)\n",
      "memory usage: 1.6+ KB\n"
     ]
    },
    {
     "data": {
      "text/html": [
       "<div>\n",
       "<style scoped>\n",
       "    .dataframe tbody tr th:only-of-type {\n",
       "        vertical-align: middle;\n",
       "    }\n",
       "\n",
       "    .dataframe tbody tr th {\n",
       "        vertical-align: top;\n",
       "    }\n",
       "\n",
       "    .dataframe thead th {\n",
       "        text-align: right;\n",
       "    }\n",
       "</style>\n",
       "<table border=\"1\" class=\"dataframe\">\n",
       "  <thead>\n",
       "    <tr style=\"text-align: right;\">\n",
       "      <th></th>\n",
       "      <th>date</th>\n",
       "      <th>group</th>\n",
       "      <th>visits</th>\n",
       "    </tr>\n",
       "  </thead>\n",
       "  <tbody>\n",
       "    <tr>\n",
       "      <th>0</th>\n",
       "      <td>2019-08-01</td>\n",
       "      <td>A</td>\n",
       "      <td>719</td>\n",
       "    </tr>\n",
       "    <tr>\n",
       "      <th>1</th>\n",
       "      <td>2019-08-02</td>\n",
       "      <td>A</td>\n",
       "      <td>619</td>\n",
       "    </tr>\n",
       "    <tr>\n",
       "      <th>2</th>\n",
       "      <td>2019-08-03</td>\n",
       "      <td>A</td>\n",
       "      <td>507</td>\n",
       "    </tr>\n",
       "    <tr>\n",
       "      <th>3</th>\n",
       "      <td>2019-08-04</td>\n",
       "      <td>A</td>\n",
       "      <td>717</td>\n",
       "    </tr>\n",
       "  </tbody>\n",
       "</table>\n",
       "</div>"
      ],
      "text/plain": [
       "         date group  visits\n",
       "0  2019-08-01     A     719\n",
       "1  2019-08-02     A     619\n",
       "2  2019-08-03     A     507\n",
       "3  2019-08-04     A     717"
      ]
     },
     "execution_count": 75,
     "metadata": {},
     "output_type": "execute_result"
    }
   ],
   "source": [
    "# Load 'visits_us.csv' data:\n",
    "try:\n",
    "    visits = pd.read_csv('/datasets/visits_us.csv')\n",
    "except:\n",
    "     visits = pd.read_csv('visits_us.csv')\n",
    "\n",
    "\n",
    "# visits['date'] = visits['date'].map(lambda x: dt.datetime.strptime(x, '%Y-%m-%d'))        \n",
    "visits.info()\n",
    "visits.head(4)       \n"
   ]
  },
  {
   "cell_type": "markdown",
   "metadata": {},
   "source": [
    "#### Preprocessing the data:"
   ]
  },
  {
   "cell_type": "code",
   "execution_count": 76,
   "metadata": {},
   "outputs": [
    {
     "data": {
      "text/html": [
       "<div>\n",
       "<style scoped>\n",
       "    .dataframe tbody tr th:only-of-type {\n",
       "        vertical-align: middle;\n",
       "    }\n",
       "\n",
       "    .dataframe tbody tr th {\n",
       "        vertical-align: top;\n",
       "    }\n",
       "\n",
       "    .dataframe thead th {\n",
       "        text-align: right;\n",
       "    }\n",
       "</style>\n",
       "<table border=\"1\" class=\"dataframe\">\n",
       "  <thead>\n",
       "    <tr style=\"text-align: right;\">\n",
       "      <th></th>\n",
       "      <th>Hypothesis</th>\n",
       "      <th>Reach</th>\n",
       "      <th>Impact</th>\n",
       "      <th>Confidence</th>\n",
       "      <th>Effort</th>\n",
       "    </tr>\n",
       "  </thead>\n",
       "  <tbody>\n",
       "    <tr>\n",
       "      <th>0</th>\n",
       "      <td>Add two new channels for attracting traffic. This will bring 30% more users</td>\n",
       "      <td>3</td>\n",
       "      <td>10</td>\n",
       "      <td>8</td>\n",
       "      <td>6</td>\n",
       "    </tr>\n",
       "    <tr>\n",
       "      <th>1</th>\n",
       "      <td>Launch your own delivery service. This will shorten delivery time</td>\n",
       "      <td>2</td>\n",
       "      <td>5</td>\n",
       "      <td>4</td>\n",
       "      <td>10</td>\n",
       "    </tr>\n",
       "    <tr>\n",
       "      <th>2</th>\n",
       "      <td>Add product recommendation blocks to the store's site. This will increase conversion and average purchase size</td>\n",
       "      <td>8</td>\n",
       "      <td>3</td>\n",
       "      <td>7</td>\n",
       "      <td>3</td>\n",
       "    </tr>\n",
       "    <tr>\n",
       "      <th>3</th>\n",
       "      <td>Change the category structure. This will increase conversion since users will find the products they want more quickly</td>\n",
       "      <td>8</td>\n",
       "      <td>3</td>\n",
       "      <td>3</td>\n",
       "      <td>8</td>\n",
       "    </tr>\n",
       "    <tr>\n",
       "      <th>4</th>\n",
       "      <td>Change the background color on the main page. This will increase user engagement</td>\n",
       "      <td>3</td>\n",
       "      <td>1</td>\n",
       "      <td>1</td>\n",
       "      <td>1</td>\n",
       "    </tr>\n",
       "    <tr>\n",
       "      <th>5</th>\n",
       "      <td>Add a customer review page. This will increase the number of orders</td>\n",
       "      <td>3</td>\n",
       "      <td>2</td>\n",
       "      <td>2</td>\n",
       "      <td>3</td>\n",
       "    </tr>\n",
       "    <tr>\n",
       "      <th>6</th>\n",
       "      <td>Show banners with current offers and sales on the main page. This will boost conversion</td>\n",
       "      <td>5</td>\n",
       "      <td>3</td>\n",
       "      <td>8</td>\n",
       "      <td>3</td>\n",
       "    </tr>\n",
       "    <tr>\n",
       "      <th>7</th>\n",
       "      <td>Add a subscription form to all the main pages. This will help you compile a mailing list</td>\n",
       "      <td>10</td>\n",
       "      <td>7</td>\n",
       "      <td>8</td>\n",
       "      <td>5</td>\n",
       "    </tr>\n",
       "    <tr>\n",
       "      <th>8</th>\n",
       "      <td>Launch a promotion that gives users discounts on their birthdays</td>\n",
       "      <td>1</td>\n",
       "      <td>9</td>\n",
       "      <td>9</td>\n",
       "      <td>5</td>\n",
       "    </tr>\n",
       "  </tbody>\n",
       "</table>\n",
       "</div>"
      ],
      "text/plain": [
       "                                                                                                               Hypothesis  \\\n",
       "0                                             Add two new channels for attracting traffic. This will bring 30% more users   \n",
       "1                                                       Launch your own delivery service. This will shorten delivery time   \n",
       "2          Add product recommendation blocks to the store's site. This will increase conversion and average purchase size   \n",
       "3  Change the category structure. This will increase conversion since users will find the products they want more quickly   \n",
       "4                                        Change the background color on the main page. This will increase user engagement   \n",
       "5                                                     Add a customer review page. This will increase the number of orders   \n",
       "6                                 Show banners with current offers and sales on the main page. This will boost conversion   \n",
       "7                                Add a subscription form to all the main pages. This will help you compile a mailing list   \n",
       "8                                                        Launch a promotion that gives users discounts on their birthdays   \n",
       "\n",
       "   Reach  Impact  Confidence  Effort  \n",
       "0      3      10           8       6  \n",
       "1      2       5           4      10  \n",
       "2      8       3           7       3  \n",
       "3      8       3           3       8  \n",
       "4      3       1           1       1  \n",
       "5      3       2           2       3  \n",
       "6      5       3           8       3  \n",
       "7     10       7           8       5  \n",
       "8      1       9           9       5  "
      ]
     },
     "execution_count": 76,
     "metadata": {},
     "output_type": "execute_result"
    }
   ],
   "source": [
    "hypo"
   ]
  },
  {
   "cell_type": "markdown",
   "metadata": {},
   "source": [
    "* hypo table does not contain any duplicate or missing values. It shows the 9 different hypotheses and their rating. "
   ]
  },
  {
   "cell_type": "code",
   "execution_count": 77,
   "metadata": {},
   "outputs": [],
   "source": [
    "# using profile report to see if ther's any duplicate, zero's and what are the unique values:\n",
    "# profile_orders = ProfileReport(orders)\n",
    "# display(profile_orders)"
   ]
  },
  {
   "cell_type": "markdown",
   "metadata": {},
   "source": [
    "* orders table contains 1197 rows with no duplicates or missing values\n",
    "    * 1197 distinct orders id's\n",
    "    * 1031 distinct visitors id's\n",
    "    * 31 distinct dates from 01/08/2019 - 31/08/2019\n",
    "    * 403 distinct revenues-\n",
    "        * minimum revenue: 5\n",
    "        * mean revenue: 131.5 \n",
    "        * maximum revenue: 19,920\n",
    "    * 640 orders belong to group B \n",
    "    * 557 orders belong to group A \n",
    "    "
   ]
  },
  {
   "cell_type": "code",
   "execution_count": 78,
   "metadata": {},
   "outputs": [],
   "source": [
    "# profile_visits = ProfileReport(visits)\n",
    "# display(profile_visits)"
   ]
  },
  {
   "cell_type": "markdown",
   "metadata": {},
   "source": [
    "* visits table contains 62 rows with no duplicates or missing values\n",
    "    * 31 distinct dates 11/08/2019 - 31/08/2019\n",
    "    * 31 visits belong to group A\n",
    "    * 31 visits belong to group B\n",
    "    * 58 distinct visits- \n",
    "        * Minimum number of visits: 361\n",
    "        * mean number of visits: 607.3\n",
    "        * Maximum number of visits 770"
   ]
  },
  {
   "cell_type": "code",
   "execution_count": 79,
   "metadata": {},
   "outputs": [],
   "source": [
    "# check if visitors have gotten into both groups, A and B:\n",
    "tmp = orders.groupby('visitorId').agg({'group':'nunique'}).reset_index()\n",
    "AB_users = tmp.query('group > 1')['visitorId']"
   ]
  },
  {
   "cell_type": "code",
   "execution_count": 80,
   "metadata": {},
   "outputs": [
    {
     "data": {
      "text/plain": [
       "group\n",
       "A    503\n",
       "B    586\n",
       "Name: visitorId, dtype: int64"
      ]
     },
     "execution_count": 80,
     "metadata": {},
     "output_type": "execute_result"
    }
   ],
   "source": [
    "orders.groupby('group')['visitorId'].nunique()"
   ]
  },
  {
   "cell_type": "code",
   "execution_count": 81,
   "metadata": {},
   "outputs": [
    {
     "data": {
      "text/plain": [
       "0"
      ]
     },
     "execution_count": 81,
     "metadata": {},
     "output_type": "execute_result"
    }
   ],
   "source": [
    "orders[['transactionId', 'date', 'revenue']].duplicated().sum()"
   ]
  },
  {
   "cell_type": "markdown",
   "metadata": {},
   "source": [
    "##### Summary: \n",
    "On orders table there are:\n",
    "* 503 unique users in group A\n",
    "* 586 unique users in group B \n",
    "* 58 unique users have gotten into both group\n",
    "    * There are 92 orders that gotten into group B and their visitorId showes up in group A\n",
    "    * There are 89 orders that gotten into group A and their visitorId showes up in group B\n",
    "**Those rows are not duplicated*\n",
    "    \n",
    "* I don't know what to do with the 58 visitorId that belong to group A and B, Im going to create a new df without those 58 visitorId."
   ]
  },
  {
   "cell_type": "code",
   "execution_count": 82,
   "metadata": {},
   "outputs": [
    {
     "data": {
      "text/html": [
       "<div>\n",
       "<style scoped>\n",
       "    .dataframe tbody tr th:only-of-type {\n",
       "        vertical-align: middle;\n",
       "    }\n",
       "\n",
       "    .dataframe tbody tr th {\n",
       "        vertical-align: top;\n",
       "    }\n",
       "\n",
       "    .dataframe thead th {\n",
       "        text-align: right;\n",
       "    }\n",
       "</style>\n",
       "<table border=\"1\" class=\"dataframe\">\n",
       "  <thead>\n",
       "    <tr style=\"text-align: right;\">\n",
       "      <th></th>\n",
       "      <th>transactionId</th>\n",
       "      <th>visitorId</th>\n",
       "      <th>revenue</th>\n",
       "    </tr>\n",
       "  </thead>\n",
       "  <tbody>\n",
       "    <tr>\n",
       "      <th>count</th>\n",
       "      <td>1.016000e+03</td>\n",
       "      <td>1.016000e+03</td>\n",
       "      <td>1016.000000</td>\n",
       "    </tr>\n",
       "    <tr>\n",
       "      <th>mean</th>\n",
       "      <td>2.155085e+09</td>\n",
       "      <td>2.128677e+09</td>\n",
       "      <td>130.770866</td>\n",
       "    </tr>\n",
       "    <tr>\n",
       "      <th>std</th>\n",
       "      <td>1.234372e+09</td>\n",
       "      <td>1.221578e+09</td>\n",
       "      <td>648.079810</td>\n",
       "    </tr>\n",
       "    <tr>\n",
       "      <th>min</th>\n",
       "      <td>1.062393e+06</td>\n",
       "      <td>5.114589e+06</td>\n",
       "      <td>5.000000</td>\n",
       "    </tr>\n",
       "    <tr>\n",
       "      <th>25%</th>\n",
       "      <td>1.143481e+09</td>\n",
       "      <td>1.043655e+09</td>\n",
       "      <td>20.775000</td>\n",
       "    </tr>\n",
       "    <tr>\n",
       "      <th>50%</th>\n",
       "      <td>2.144499e+09</td>\n",
       "      <td>2.150274e+09</td>\n",
       "      <td>50.100000</td>\n",
       "    </tr>\n",
       "    <tr>\n",
       "      <th>75%</th>\n",
       "      <td>3.256513e+09</td>\n",
       "      <td>3.146991e+09</td>\n",
       "      <td>126.950000</td>\n",
       "    </tr>\n",
       "    <tr>\n",
       "      <th>max</th>\n",
       "      <td>4.288552e+09</td>\n",
       "      <td>4.283872e+09</td>\n",
       "      <td>19920.400000</td>\n",
       "    </tr>\n",
       "  </tbody>\n",
       "</table>\n",
       "</div>"
      ],
      "text/plain": [
       "       transactionId     visitorId       revenue\n",
       "count   1.016000e+03  1.016000e+03   1016.000000\n",
       "mean    2.155085e+09  2.128677e+09    130.770866\n",
       "std     1.234372e+09  1.221578e+09    648.079810\n",
       "min     1.062393e+06  5.114589e+06      5.000000\n",
       "25%     1.143481e+09  1.043655e+09     20.775000\n",
       "50%     2.144499e+09  2.150274e+09     50.100000\n",
       "75%     3.256513e+09  3.146991e+09    126.950000\n",
       "max     4.288552e+09  4.283872e+09  19920.400000"
      ]
     },
     "execution_count": 82,
     "metadata": {},
     "output_type": "execute_result"
    }
   ],
   "source": [
    "orders_old = orders.copy()\n",
    "orders = orders_old.query('visitorId not in @AB_users')\n",
    "orders.describe()"
   ]
  },
  {
   "cell_type": "markdown",
   "metadata": {},
   "source": [
    "#### Part 1. Prioritizing Hypotheses:"
   ]
  },
  {
   "cell_type": "code",
   "execution_count": 83,
   "metadata": {},
   "outputs": [
    {
     "data": {
      "text/html": [
       "<div>\n",
       "<style scoped>\n",
       "    .dataframe tbody tr th:only-of-type {\n",
       "        vertical-align: middle;\n",
       "    }\n",
       "\n",
       "    .dataframe tbody tr th {\n",
       "        vertical-align: top;\n",
       "    }\n",
       "\n",
       "    .dataframe thead th {\n",
       "        text-align: right;\n",
       "    }\n",
       "</style>\n",
       "<table border=\"1\" class=\"dataframe\">\n",
       "  <thead>\n",
       "    <tr style=\"text-align: right;\">\n",
       "      <th></th>\n",
       "      <th>Hypothesis</th>\n",
       "      <th>Reach</th>\n",
       "      <th>Impact</th>\n",
       "      <th>Confidence</th>\n",
       "      <th>Effort</th>\n",
       "    </tr>\n",
       "  </thead>\n",
       "  <tbody>\n",
       "    <tr>\n",
       "      <th>0</th>\n",
       "      <td>Add two new channels for attracting traffic. This will bring 30% more users</td>\n",
       "      <td>3</td>\n",
       "      <td>10</td>\n",
       "      <td>8</td>\n",
       "      <td>6</td>\n",
       "    </tr>\n",
       "  </tbody>\n",
       "</table>\n",
       "</div>"
      ],
      "text/plain": [
       "                                                                    Hypothesis  \\\n",
       "0  Add two new channels for attracting traffic. This will bring 30% more users   \n",
       "\n",
       "   Reach  Impact  Confidence  Effort  \n",
       "0      3      10           8       6  "
      ]
     },
     "execution_count": 83,
     "metadata": {},
     "output_type": "execute_result"
    }
   ],
   "source": [
    "hypo.head(1)"
   ]
  },
  {
   "cell_type": "code",
   "execution_count": 84,
   "metadata": {},
   "outputs": [],
   "source": [
    "# Apply the ICE framework to priorotize hypotheses:\n",
    "hypo['ICE'] = (hypo['Impact']* hypo['Confidence'])/hypo['Effort']\n",
    "\n",
    "ice = hypo.sort_values('ICE', ascending= False)"
   ]
  },
  {
   "cell_type": "code",
   "execution_count": 85,
   "metadata": {},
   "outputs": [],
   "source": [
    "# Apply the RICE framework to priorotize hypotheses:\n",
    "hypo['RICE'] = (hypo['Reach']*hypo['Impact']* hypo['Confidence'])/hypo['Effort']\n",
    "\n",
    "rice = hypo.sort_values('RICE', ascending= False)"
   ]
  },
  {
   "cell_type": "code",
   "execution_count": 86,
   "metadata": {},
   "outputs": [
    {
     "data": {
      "text/html": [
       "<div>\n",
       "<style scoped>\n",
       "    .dataframe tbody tr th:only-of-type {\n",
       "        vertical-align: middle;\n",
       "    }\n",
       "\n",
       "    .dataframe tbody tr th {\n",
       "        vertical-align: top;\n",
       "    }\n",
       "\n",
       "    .dataframe thead th {\n",
       "        text-align: right;\n",
       "    }\n",
       "</style>\n",
       "<table border=\"1\" class=\"dataframe\">\n",
       "  <thead>\n",
       "    <tr style=\"text-align: right;\">\n",
       "      <th></th>\n",
       "      <th>Hypothesis</th>\n",
       "      <th>Reach</th>\n",
       "      <th>Impact</th>\n",
       "      <th>Confidence</th>\n",
       "      <th>Effort</th>\n",
       "      <th>ICE</th>\n",
       "    </tr>\n",
       "  </thead>\n",
       "  <tbody>\n",
       "    <tr>\n",
       "      <th>8</th>\n",
       "      <td>Launch a promotion that gives users discounts on their birthdays</td>\n",
       "      <td>1</td>\n",
       "      <td>9</td>\n",
       "      <td>9</td>\n",
       "      <td>5</td>\n",
       "      <td>16.200000</td>\n",
       "    </tr>\n",
       "    <tr>\n",
       "      <th>0</th>\n",
       "      <td>Add two new channels for attracting traffic. This will bring 30% more users</td>\n",
       "      <td>3</td>\n",
       "      <td>10</td>\n",
       "      <td>8</td>\n",
       "      <td>6</td>\n",
       "      <td>13.333333</td>\n",
       "    </tr>\n",
       "    <tr>\n",
       "      <th>7</th>\n",
       "      <td>Add a subscription form to all the main pages. This will help you compile a mailing list</td>\n",
       "      <td>10</td>\n",
       "      <td>7</td>\n",
       "      <td>8</td>\n",
       "      <td>5</td>\n",
       "      <td>11.200000</td>\n",
       "    </tr>\n",
       "    <tr>\n",
       "      <th>6</th>\n",
       "      <td>Show banners with current offers and sales on the main page. This will boost conversion</td>\n",
       "      <td>5</td>\n",
       "      <td>3</td>\n",
       "      <td>8</td>\n",
       "      <td>3</td>\n",
       "      <td>8.000000</td>\n",
       "    </tr>\n",
       "    <tr>\n",
       "      <th>2</th>\n",
       "      <td>Add product recommendation blocks to the store's site. This will increase conversion and average purchase size</td>\n",
       "      <td>8</td>\n",
       "      <td>3</td>\n",
       "      <td>7</td>\n",
       "      <td>3</td>\n",
       "      <td>7.000000</td>\n",
       "    </tr>\n",
       "  </tbody>\n",
       "</table>\n",
       "</div>"
      ],
      "text/plain": [
       "                                                                                                       Hypothesis  \\\n",
       "8                                                Launch a promotion that gives users discounts on their birthdays   \n",
       "0                                     Add two new channels for attracting traffic. This will bring 30% more users   \n",
       "7                        Add a subscription form to all the main pages. This will help you compile a mailing list   \n",
       "6                         Show banners with current offers and sales on the main page. This will boost conversion   \n",
       "2  Add product recommendation blocks to the store's site. This will increase conversion and average purchase size   \n",
       "\n",
       "   Reach  Impact  Confidence  Effort        ICE  \n",
       "8      1       9           9       5  16.200000  \n",
       "0      3      10           8       6  13.333333  \n",
       "7     10       7           8       5  11.200000  \n",
       "6      5       3           8       3   8.000000  \n",
       "2      8       3           7       3   7.000000  "
      ]
     },
     "execution_count": 86,
     "metadata": {},
     "output_type": "execute_result"
    }
   ],
   "source": [
    "ice.head(5)"
   ]
  },
  {
   "cell_type": "code",
   "execution_count": 87,
   "metadata": {},
   "outputs": [
    {
     "data": {
      "text/html": [
       "<div>\n",
       "<style scoped>\n",
       "    .dataframe tbody tr th:only-of-type {\n",
       "        vertical-align: middle;\n",
       "    }\n",
       "\n",
       "    .dataframe tbody tr th {\n",
       "        vertical-align: top;\n",
       "    }\n",
       "\n",
       "    .dataframe thead th {\n",
       "        text-align: right;\n",
       "    }\n",
       "</style>\n",
       "<table border=\"1\" class=\"dataframe\">\n",
       "  <thead>\n",
       "    <tr style=\"text-align: right;\">\n",
       "      <th></th>\n",
       "      <th>Hypothesis</th>\n",
       "      <th>Reach</th>\n",
       "      <th>Impact</th>\n",
       "      <th>Confidence</th>\n",
       "      <th>Effort</th>\n",
       "      <th>ICE</th>\n",
       "      <th>RICE</th>\n",
       "    </tr>\n",
       "  </thead>\n",
       "  <tbody>\n",
       "    <tr>\n",
       "      <th>7</th>\n",
       "      <td>Add a subscription form to all the main pages. This will help you compile a mailing list</td>\n",
       "      <td>10</td>\n",
       "      <td>7</td>\n",
       "      <td>8</td>\n",
       "      <td>5</td>\n",
       "      <td>11.200000</td>\n",
       "      <td>112.0</td>\n",
       "    </tr>\n",
       "    <tr>\n",
       "      <th>2</th>\n",
       "      <td>Add product recommendation blocks to the store's site. This will increase conversion and average purchase size</td>\n",
       "      <td>8</td>\n",
       "      <td>3</td>\n",
       "      <td>7</td>\n",
       "      <td>3</td>\n",
       "      <td>7.000000</td>\n",
       "      <td>56.0</td>\n",
       "    </tr>\n",
       "    <tr>\n",
       "      <th>0</th>\n",
       "      <td>Add two new channels for attracting traffic. This will bring 30% more users</td>\n",
       "      <td>3</td>\n",
       "      <td>10</td>\n",
       "      <td>8</td>\n",
       "      <td>6</td>\n",
       "      <td>13.333333</td>\n",
       "      <td>40.0</td>\n",
       "    </tr>\n",
       "    <tr>\n",
       "      <th>6</th>\n",
       "      <td>Show banners with current offers and sales on the main page. This will boost conversion</td>\n",
       "      <td>5</td>\n",
       "      <td>3</td>\n",
       "      <td>8</td>\n",
       "      <td>3</td>\n",
       "      <td>8.000000</td>\n",
       "      <td>40.0</td>\n",
       "    </tr>\n",
       "    <tr>\n",
       "      <th>8</th>\n",
       "      <td>Launch a promotion that gives users discounts on their birthdays</td>\n",
       "      <td>1</td>\n",
       "      <td>9</td>\n",
       "      <td>9</td>\n",
       "      <td>5</td>\n",
       "      <td>16.200000</td>\n",
       "      <td>16.2</td>\n",
       "    </tr>\n",
       "  </tbody>\n",
       "</table>\n",
       "</div>"
      ],
      "text/plain": [
       "                                                                                                       Hypothesis  \\\n",
       "7                        Add a subscription form to all the main pages. This will help you compile a mailing list   \n",
       "2  Add product recommendation blocks to the store's site. This will increase conversion and average purchase size   \n",
       "0                                     Add two new channels for attracting traffic. This will bring 30% more users   \n",
       "6                         Show banners with current offers and sales on the main page. This will boost conversion   \n",
       "8                                                Launch a promotion that gives users discounts on their birthdays   \n",
       "\n",
       "   Reach  Impact  Confidence  Effort        ICE   RICE  \n",
       "7     10       7           8       5  11.200000  112.0  \n",
       "2      8       3           7       3   7.000000   56.0  \n",
       "0      3      10           8       6  13.333333   40.0  \n",
       "6      5       3           8       3   8.000000   40.0  \n",
       "8      1       9           9       5  16.200000   16.2  "
      ]
     },
     "execution_count": 87,
     "metadata": {},
     "output_type": "execute_result"
    }
   ],
   "source": [
    "rice.head(5)"
   ]
  },
  {
   "cell_type": "code",
   "execution_count": 88,
   "metadata": {
    "scrolled": true
   },
   "outputs": [
    {
     "name": "stdout",
     "output_type": "stream",
     "text": [
      "Hypotheses number 7, has the higher RICE score: \n",
      "Add two new channels for attracting traffic. This will bring 30% more users\n",
      "\n",
      "Hypotheses number 8, has the higher ICE score: \n",
      "Add two new channels for attracting traffic. This will bring 30% more users\n"
     ]
    }
   ],
   "source": [
    "print(\"Hypotheses number 7, has the higher RICE score: \")\n",
    "print(rice.loc[0,'Hypothesis'])\n",
    "print()\n",
    "print(\"Hypotheses number 8, has the higher ICE score: \")\n",
    "print(ice.loc[0,'Hypothesis'])"
   ]
  },
  {
   "cell_type": "markdown",
   "metadata": {},
   "source": [
    "* By the ICE framework hypotheses number 8 lead and hypotheses number 7 in the 3 place. \n",
    "* ICE takes into account:\n",
    "    * The Impact the change will do, \n",
    "    * The Confidence in the assumption,\n",
    "    * and the Effort, the cost of testing this hypothesis.\n",
    "* RICE = ICE * Reach,\n",
    "    * Reach: how many users will be affected by the update\n",
    "* Once Reach has been taken into consideration hypotheses number 7 takes the lead, \n",
    "    apparently, hypotheses number 8 has a Reach value of 1, \n",
    "    while hypothesis number 7 has a Reach value of 10 which means that this update will affect more users."
   ]
  },
  {
   "cell_type": "markdown",
   "metadata": {},
   "source": [
    "#### Part 2. A/B Test Analysis:"
   ]
  },
  {
   "cell_type": "code",
   "execution_count": 19,
   "metadata": {},
   "outputs": [
    {
     "data": {
      "text/html": [
       "<div>\n",
       "<style scoped>\n",
       "    .dataframe tbody tr th:only-of-type {\n",
       "        vertical-align: middle;\n",
       "    }\n",
       "\n",
       "    .dataframe tbody tr th {\n",
       "        vertical-align: top;\n",
       "    }\n",
       "\n",
       "    .dataframe thead th {\n",
       "        text-align: right;\n",
       "    }\n",
       "</style>\n",
       "<table border=\"1\" class=\"dataframe\">\n",
       "  <thead>\n",
       "    <tr style=\"text-align: right;\">\n",
       "      <th></th>\n",
       "      <th>date</th>\n",
       "      <th>group</th>\n",
       "    </tr>\n",
       "  </thead>\n",
       "  <tbody>\n",
       "    <tr>\n",
       "      <th>0</th>\n",
       "      <td>2019-08-15</td>\n",
       "      <td>B</td>\n",
       "    </tr>\n",
       "    <tr>\n",
       "      <th>7</th>\n",
       "      <td>2019-08-15</td>\n",
       "      <td>A</td>\n",
       "    </tr>\n",
       "  </tbody>\n",
       "</table>\n",
       "</div>"
      ],
      "text/plain": [
       "         date group\n",
       "0  2019-08-15     B\n",
       "7  2019-08-15     A"
      ]
     },
     "execution_count": 19,
     "metadata": {},
     "output_type": "execute_result"
    }
   ],
   "source": [
    "# building an array with unique paired data - group values:\n",
    "dates_groups = orders[['date', 'group']].drop_duplicates()\n",
    "dates_groups.head(2)"
   ]
  },
  {
   "cell_type": "code",
   "execution_count": 89,
   "metadata": {},
   "outputs": [
    {
     "data": {
      "text/html": [
       "<div>\n",
       "<style scoped>\n",
       "    .dataframe tbody tr th:only-of-type {\n",
       "        vertical-align: middle;\n",
       "    }\n",
       "\n",
       "    .dataframe tbody tr th {\n",
       "        vertical-align: top;\n",
       "    }\n",
       "\n",
       "    .dataframe thead th {\n",
       "        text-align: right;\n",
       "    }\n",
       "</style>\n",
       "<table border=\"1\" class=\"dataframe\">\n",
       "  <thead>\n",
       "    <tr style=\"text-align: right;\">\n",
       "      <th></th>\n",
       "      <th>date</th>\n",
       "      <th>group</th>\n",
       "      <th>transactionId</th>\n",
       "      <th>visitorId</th>\n",
       "      <th>revenue</th>\n",
       "    </tr>\n",
       "  </thead>\n",
       "  <tbody>\n",
       "    <tr>\n",
       "      <th>55</th>\n",
       "      <td>2019-08-01</td>\n",
       "      <td>A</td>\n",
       "      <td>23</td>\n",
       "      <td>19</td>\n",
       "      <td>2266.6</td>\n",
       "    </tr>\n",
       "    <tr>\n",
       "      <th>66</th>\n",
       "      <td>2019-08-01</td>\n",
       "      <td>B</td>\n",
       "      <td>17</td>\n",
       "      <td>17</td>\n",
       "      <td>967.2</td>\n",
       "    </tr>\n",
       "    <tr>\n",
       "      <th>175</th>\n",
       "      <td>2019-08-02</td>\n",
       "      <td>A</td>\n",
       "      <td>42</td>\n",
       "      <td>36</td>\n",
       "      <td>3734.9</td>\n",
       "    </tr>\n",
       "  </tbody>\n",
       "</table>\n",
       "</div>"
      ],
      "text/plain": [
       "           date group  transactionId  visitorId  revenue\n",
       "55   2019-08-01     A             23         19   2266.6\n",
       "66   2019-08-01     B             17         17    967.2\n",
       "175  2019-08-02     A             42         36   3734.9"
      ]
     },
     "execution_count": 89,
     "metadata": {},
     "output_type": "execute_result"
    }
   ],
   "source": [
    "# find max date, representation of the group, number of unique orders, and userID . \n",
    "# Calculate the sum of avg purchase size-getting cumulative daily data on orders:\n",
    "orders_agg = dates_groups.apply(lambda x: orders[np.logical_and(orders['date'] <= x['date'], \n",
    "                                                                orders['group'] == x['group'])].agg({'date': 'max',\n",
    "                                                                                                     'group': 'max', \n",
    "                                                                                                     'transactionId': pd.Series.nunique, \n",
    "                                                                                                     'visitorId': pd.Series.nunique,\n",
    "                                                                                                     'revenue': 'sum'}), axis=1).sort_values(by = ['date','group'])\n",
    "orders_agg.head(3)"
   ]
  },
  {
   "cell_type": "code",
   "execution_count": 90,
   "metadata": {},
   "outputs": [
    {
     "data": {
      "text/html": [
       "<div>\n",
       "<style scoped>\n",
       "    .dataframe tbody tr th:only-of-type {\n",
       "        vertical-align: middle;\n",
       "    }\n",
       "\n",
       "    .dataframe tbody tr th {\n",
       "        vertical-align: top;\n",
       "    }\n",
       "\n",
       "    .dataframe thead th {\n",
       "        text-align: right;\n",
       "    }\n",
       "</style>\n",
       "<table border=\"1\" class=\"dataframe\">\n",
       "  <thead>\n",
       "    <tr style=\"text-align: right;\">\n",
       "      <th></th>\n",
       "      <th>date</th>\n",
       "      <th>group</th>\n",
       "      <th>visits</th>\n",
       "    </tr>\n",
       "  </thead>\n",
       "  <tbody>\n",
       "    <tr>\n",
       "      <th>55</th>\n",
       "      <td>2019-08-01</td>\n",
       "      <td>A</td>\n",
       "      <td>719</td>\n",
       "    </tr>\n",
       "    <tr>\n",
       "      <th>66</th>\n",
       "      <td>2019-08-01</td>\n",
       "      <td>B</td>\n",
       "      <td>713</td>\n",
       "    </tr>\n",
       "    <tr>\n",
       "      <th>175</th>\n",
       "      <td>2019-08-02</td>\n",
       "      <td>A</td>\n",
       "      <td>1338</td>\n",
       "    </tr>\n",
       "  </tbody>\n",
       "</table>\n",
       "</div>"
      ],
      "text/plain": [
       "           date group  visits\n",
       "55   2019-08-01     A     719\n",
       "66   2019-08-01     B     713\n",
       "175  2019-08-02     A    1338"
      ]
     },
     "execution_count": 90,
     "metadata": {},
     "output_type": "execute_result"
    }
   ],
   "source": [
    "# find max date, representation of the group, and sum of visits- getting cumulative daily data on visits:\n",
    "visits_agg = dates_groups.apply(lambda x: visits[np.logical_and(visits['date'] <= x['date'], \n",
    "                                                                visits['group'] == x['group'])].agg({'date': 'max',\n",
    "                                                                                                     'group': 'max',\n",
    "                                                                                                    'visits': 'sum'}), axis=1).sort_values(by = ['date','group'])\n",
    "visits_agg.head(3)"
   ]
  },
  {
   "cell_type": "code",
   "execution_count": 91,
   "metadata": {},
   "outputs": [
    {
     "data": {
      "text/html": [
       "<div>\n",
       "<style scoped>\n",
       "    .dataframe tbody tr th:only-of-type {\n",
       "        vertical-align: middle;\n",
       "    }\n",
       "\n",
       "    .dataframe tbody tr th {\n",
       "        vertical-align: top;\n",
       "    }\n",
       "\n",
       "    .dataframe thead th {\n",
       "        text-align: right;\n",
       "    }\n",
       "</style>\n",
       "<table border=\"1\" class=\"dataframe\">\n",
       "  <thead>\n",
       "    <tr style=\"text-align: right;\">\n",
       "      <th></th>\n",
       "      <th>date</th>\n",
       "      <th>group</th>\n",
       "      <th>orders</th>\n",
       "      <th>buyers</th>\n",
       "      <th>revenue</th>\n",
       "      <th>visits</th>\n",
       "    </tr>\n",
       "  </thead>\n",
       "  <tbody>\n",
       "    <tr>\n",
       "      <th>0</th>\n",
       "      <td>2019-08-01</td>\n",
       "      <td>A</td>\n",
       "      <td>23</td>\n",
       "      <td>19</td>\n",
       "      <td>2266.6</td>\n",
       "      <td>719</td>\n",
       "    </tr>\n",
       "    <tr>\n",
       "      <th>1</th>\n",
       "      <td>2019-08-01</td>\n",
       "      <td>B</td>\n",
       "      <td>17</td>\n",
       "      <td>17</td>\n",
       "      <td>967.2</td>\n",
       "      <td>713</td>\n",
       "    </tr>\n",
       "    <tr>\n",
       "      <th>2</th>\n",
       "      <td>2019-08-02</td>\n",
       "      <td>A</td>\n",
       "      <td>42</td>\n",
       "      <td>36</td>\n",
       "      <td>3734.9</td>\n",
       "      <td>1338</td>\n",
       "    </tr>\n",
       "    <tr>\n",
       "      <th>3</th>\n",
       "      <td>2019-08-02</td>\n",
       "      <td>B</td>\n",
       "      <td>40</td>\n",
       "      <td>39</td>\n",
       "      <td>3535.3</td>\n",
       "      <td>1294</td>\n",
       "    </tr>\n",
       "    <tr>\n",
       "      <th>4</th>\n",
       "      <td>2019-08-03</td>\n",
       "      <td>A</td>\n",
       "      <td>66</td>\n",
       "      <td>60</td>\n",
       "      <td>5550.1</td>\n",
       "      <td>1845</td>\n",
       "    </tr>\n",
       "    <tr>\n",
       "      <th>5</th>\n",
       "      <td>2019-08-03</td>\n",
       "      <td>B</td>\n",
       "      <td>54</td>\n",
       "      <td>53</td>\n",
       "      <td>4606.9</td>\n",
       "      <td>1803</td>\n",
       "    </tr>\n",
       "    <tr>\n",
       "      <th>6</th>\n",
       "      <td>2019-08-04</td>\n",
       "      <td>A</td>\n",
       "      <td>77</td>\n",
       "      <td>71</td>\n",
       "      <td>6225.6</td>\n",
       "      <td>2562</td>\n",
       "    </tr>\n",
       "    <tr>\n",
       "      <th>7</th>\n",
       "      <td>2019-08-04</td>\n",
       "      <td>B</td>\n",
       "      <td>68</td>\n",
       "      <td>66</td>\n",
       "      <td>6138.5</td>\n",
       "      <td>2573</td>\n",
       "    </tr>\n",
       "    <tr>\n",
       "      <th>8</th>\n",
       "      <td>2019-08-05</td>\n",
       "      <td>A</td>\n",
       "      <td>99</td>\n",
       "      <td>92</td>\n",
       "      <td>7623.6</td>\n",
       "      <td>3318</td>\n",
       "    </tr>\n",
       "    <tr>\n",
       "      <th>9</th>\n",
       "      <td>2019-08-05</td>\n",
       "      <td>B</td>\n",
       "      <td>89</td>\n",
       "      <td>87</td>\n",
       "      <td>7587.8</td>\n",
       "      <td>3280</td>\n",
       "    </tr>\n",
       "  </tbody>\n",
       "</table>\n",
       "</div>"
      ],
      "text/plain": [
       "         date group  orders  buyers  revenue  visits\n",
       "0  2019-08-01     A      23      19   2266.6     719\n",
       "1  2019-08-01     B      17      17    967.2     713\n",
       "2  2019-08-02     A      42      36   3734.9    1338\n",
       "3  2019-08-02     B      40      39   3535.3    1294\n",
       "4  2019-08-03     A      66      60   5550.1    1845\n",
       "5  2019-08-03     B      54      53   4606.9    1803\n",
       "6  2019-08-04     A      77      71   6225.6    2562\n",
       "7  2019-08-04     B      68      66   6138.5    2573\n",
       "8  2019-08-05     A      99      92   7623.6    3318\n",
       "9  2019-08-05     B      89      87   7587.8    3280"
      ]
     },
     "execution_count": 91,
     "metadata": {},
     "output_type": "execute_result"
    }
   ],
   "source": [
    "# merge tables visits_agg and orders_agg:\n",
    "cumu_data = orders_agg.merge(visits_agg, left_on = ['date', 'group'], right_on = ['date', 'group'])\n",
    "cumu_data.columns = ['date', 'group', 'orders', 'buyers', 'revenue', 'visits']\n",
    "cumu_data.head(10)"
   ]
  },
  {
   "cell_type": "markdown",
   "metadata": {},
   "source": [
    "##### plot cumulative revenue graph by day and A/B test group:"
   ]
  },
  {
   "cell_type": "code",
   "execution_count": 92,
   "metadata": {
    "scrolled": false
   },
   "outputs": [
    {
     "data": {
      "image/png": "[encoded data removed]",
      "text/plain": [
       "<Figure size 864x432 with 1 Axes>"
      ]
     },
     "metadata": {
      "needs_background": "light"
     },
     "output_type": "display_data"
    }
   ],
   "source": [
    "cumuA = cumu_data.query('group == \"A\"')[['date', 'revenue', 'orders']]\n",
    "cumuB = cumu_data.query('group == \"B\"')[['date', 'revenue', 'orders']]\n",
    "%matplotlib inline\n",
    "plt.figure(figsize=(12,6))\n",
    "plt.plot(cumuA['date'], cumuA['revenue'], label ='A')\n",
    "plt.plot(cumuB['date'], cumuB['revenue'], label ='B')\n",
    "plt.title('cumulative revenue  by day and A/B test group')\n",
    "plt.xlabel('day')\n",
    "plt.ylabel('revenue')\n",
    "plt.xticks(cumuA['date'].astype('string'), rotation =70 )\n",
    "plt.legend()\n",
    "plt.show()"
   ]
  },
  {
   "cell_type": "markdown",
   "metadata": {},
   "source": [
    "Revenue is rising in both groups and it's a good sign.\n",
    "Group A has almost linear line that rises steadily. \n",
    "Group B revenue starts below group A and after 04/08 its rises above group A.  \n",
    "On 19/08  group B  has big pike. \n",
    "It may imply either a surge in the number of orders or the presence of very expensive orders in the sample. "
   ]
  },
  {
   "cell_type": "markdown",
   "metadata": {},
   "source": [
    "##### plot the cumulative average order size for group A compared with group B:"
   ]
  },
  {
   "cell_type": "code",
   "execution_count": 93,
   "metadata": {},
   "outputs": [
    {
     "data": {
      "image/png": "[encoded data removed]",
      "text/plain": [
       "<Figure size 864x432 with 1 Axes>"
      ]
     },
     "metadata": {
      "needs_background": "light"
     },
     "output_type": "display_data"
    }
   ],
   "source": [
    "%matplotlib inline\n",
    "plt.figure(figsize=(12,6))\n",
    "\n",
    "plt.plot(cumuA['date'], cumuA['revenue']/cumuA['orders'], label ='A')\n",
    "plt.plot(cumuB['date'], cumuB['revenue']/cumuB['orders'], label ='B')\n",
    "plt.title('cumulative average order size by day and A/B test group')\n",
    "plt.xlabel('day' )\n",
    "plt.ylabel('cumulative average order size')\n",
    "plt.xticks(cumuA['date'].astype('string'), rotation =70 )\n",
    "plt.legend()\n",
    "plt.show()"
   ]
  },
  {
   "cell_type": "markdown",
   "metadata": {},
   "source": [
    "* Group B is unstable. The average order size keeps changing, it has big spikes on 02/08 and 19/08, and it starts falling toward the end. \n",
    "* Group A unstable as well but less dramatically. It starts at 100 and drops to 70 on 06/08, and then its rises to 120  pike on 13/08. \n",
    "* Group A stays around the same average order size all the way to the end. "
   ]
  },
  {
   "cell_type": "code",
   "execution_count": 36,
   "metadata": {},
   "outputs": [
    {
     "data": {
      "text/html": [
       "<div>\n",
       "<style scoped>\n",
       "    .dataframe tbody tr th:only-of-type {\n",
       "        vertical-align: middle;\n",
       "    }\n",
       "\n",
       "    .dataframe tbody tr th {\n",
       "        vertical-align: top;\n",
       "    }\n",
       "\n",
       "    .dataframe thead th {\n",
       "        text-align: right;\n",
       "    }\n",
       "</style>\n",
       "<table border=\"1\" class=\"dataframe\">\n",
       "  <thead>\n",
       "    <tr style=\"text-align: right;\">\n",
       "      <th></th>\n",
       "      <th>date</th>\n",
       "      <th>revenueA</th>\n",
       "      <th>ordersA</th>\n",
       "      <th>revenueB</th>\n",
       "      <th>ordersB</th>\n",
       "      <th>avg_order_sizeA</th>\n",
       "      <th>avg_order_sizeB</th>\n",
       "    </tr>\n",
       "  </thead>\n",
       "  <tbody>\n",
       "    <tr>\n",
       "      <th>0</th>\n",
       "      <td>2019-08-01</td>\n",
       "      <td>2266.6</td>\n",
       "      <td>23</td>\n",
       "      <td>967.2</td>\n",
       "      <td>17</td>\n",
       "      <td>98.547826</td>\n",
       "      <td>56.894118</td>\n",
       "    </tr>\n",
       "    <tr>\n",
       "      <th>1</th>\n",
       "      <td>2019-08-02</td>\n",
       "      <td>3734.9</td>\n",
       "      <td>42</td>\n",
       "      <td>3535.3</td>\n",
       "      <td>40</td>\n",
       "      <td>88.926190</td>\n",
       "      <td>88.382500</td>\n",
       "    </tr>\n",
       "    <tr>\n",
       "      <th>2</th>\n",
       "      <td>2019-08-03</td>\n",
       "      <td>5550.1</td>\n",
       "      <td>66</td>\n",
       "      <td>4606.9</td>\n",
       "      <td>54</td>\n",
       "      <td>84.092424</td>\n",
       "      <td>85.312963</td>\n",
       "    </tr>\n",
       "    <tr>\n",
       "      <th>3</th>\n",
       "      <td>2019-08-04</td>\n",
       "      <td>6225.6</td>\n",
       "      <td>77</td>\n",
       "      <td>6138.5</td>\n",
       "      <td>68</td>\n",
       "      <td>80.851948</td>\n",
       "      <td>90.272059</td>\n",
       "    </tr>\n",
       "    <tr>\n",
       "      <th>4</th>\n",
       "      <td>2019-08-05</td>\n",
       "      <td>7623.6</td>\n",
       "      <td>99</td>\n",
       "      <td>7587.8</td>\n",
       "      <td>89</td>\n",
       "      <td>77.006061</td>\n",
       "      <td>85.256180</td>\n",
       "    </tr>\n",
       "  </tbody>\n",
       "</table>\n",
       "</div>"
      ],
      "text/plain": [
       "         date  revenueA  ordersA  revenueB  ordersB  avg_order_sizeA  \\\n",
       "0  2019-08-01    2266.6       23     967.2       17        98.547826   \n",
       "1  2019-08-02    3734.9       42    3535.3       40        88.926190   \n",
       "2  2019-08-03    5550.1       66    4606.9       54        84.092424   \n",
       "3  2019-08-04    6225.6       77    6138.5       68        80.851948   \n",
       "4  2019-08-05    7623.6       99    7587.8       89        77.006061   \n",
       "\n",
       "   avg_order_sizeB  \n",
       "0        56.894118  \n",
       "1        88.382500  \n",
       "2        85.312963  \n",
       "3        90.272059  \n",
       "4        85.256180  "
      ]
     },
     "execution_count": 36,
     "metadata": {},
     "output_type": "execute_result"
    }
   ],
   "source": [
    "# gethering the data: \n",
    "merge_cumu = cumuA.merge(cumuB, left_on='date', right_on='date', how = 'left', suffixes=['A', 'B'])\n",
    "merge_cumu['avg_order_sizeA'] = merge_cumu['revenueA']/merge_cumu['ordersA']\n",
    "merge_cumu['avg_order_sizeB'] = merge_cumu['revenueB']/merge_cumu['ordersB']\n",
    "merge_cumu.head()"
   ]
  },
  {
   "cell_type": "markdown",
   "metadata": {},
   "source": [
    "##### plot a relative difference graph for average purchase size:"
   ]
  },
  {
   "cell_type": "code",
   "execution_count": 37,
   "metadata": {},
   "outputs": [
    {
     "data": {
      "image/png": "[encoded data removed]",
      "text/plain": [
       "<Figure size 864x432 with 1 Axes>"
      ]
     },
     "metadata": {
      "needs_background": "light"
     },
     "output_type": "display_data"
    }
   ],
   "source": [
    "%matplotlib inline\n",
    "plt.figure(figsize=(12,6))\n",
    "plt.plot(merge_cumu['date'], (merge_cumu['avg_order_sizeB']/merge_cumu['avg_order_sizeA'])-1)\n",
    "plt.axhline(y=0, color='red', linestyle='--')\n",
    "plt.title('relative difference in cumulative average order size by day and A/B test group', loc='left')\n",
    "plt.xlabel('day' )\n",
    "plt.ylabel('relative difference in cumulative average order size')\n",
    "plt.xticks(cumuA['date'].astype('string'), rotation =70 )\n",
    "plt.show()"
   ]
  },
  {
   "cell_type": "markdown",
   "metadata": {},
   "source": [
    "By this graph and the other two obove, its reasonble to think that there are outliets. \n",
    "Here we can see: \n",
    "until 02/08 group A was leading with cumulative average order size, \n",
    "then group B starts to lead until 12/08 with big pike (40%).\n",
    "From 12/08-18/08 group A lead again but the change is milder (10%).\n",
    "From 18/08 until the end group B lead againe with more the 40% differents."
   ]
  },
  {
   "cell_type": "code",
   "execution_count": 39,
   "metadata": {},
   "outputs": [
    {
     "data": {
      "text/html": [
       "<div>\n",
       "<style scoped>\n",
       "    .dataframe tbody tr th:only-of-type {\n",
       "        vertical-align: middle;\n",
       "    }\n",
       "\n",
       "    .dataframe tbody tr th {\n",
       "        vertical-align: top;\n",
       "    }\n",
       "\n",
       "    .dataframe thead th {\n",
       "        text-align: right;\n",
       "    }\n",
       "</style>\n",
       "<table border=\"1\" class=\"dataframe\">\n",
       "  <thead>\n",
       "    <tr style=\"text-align: right;\">\n",
       "      <th></th>\n",
       "      <th>date</th>\n",
       "      <th>group</th>\n",
       "      <th>orders</th>\n",
       "      <th>buyers</th>\n",
       "      <th>revenue</th>\n",
       "      <th>visits</th>\n",
       "    </tr>\n",
       "  </thead>\n",
       "  <tbody>\n",
       "    <tr>\n",
       "      <th>0</th>\n",
       "      <td>2019-08-01</td>\n",
       "      <td>A</td>\n",
       "      <td>23</td>\n",
       "      <td>19</td>\n",
       "      <td>2266.6</td>\n",
       "      <td>719</td>\n",
       "    </tr>\n",
       "    <tr>\n",
       "      <th>1</th>\n",
       "      <td>2019-08-01</td>\n",
       "      <td>B</td>\n",
       "      <td>17</td>\n",
       "      <td>17</td>\n",
       "      <td>967.2</td>\n",
       "      <td>713</td>\n",
       "    </tr>\n",
       "  </tbody>\n",
       "</table>\n",
       "</div>"
      ],
      "text/plain": [
       "         date group  orders  buyers  revenue  visits\n",
       "0  2019-08-01     A      23      19   2266.6     719\n",
       "1  2019-08-01     B      17      17    967.2     713"
      ]
     },
     "execution_count": 39,
     "metadata": {},
     "output_type": "execute_result"
    }
   ],
   "source": [
    "cumu_data.head(2)"
   ]
  },
  {
   "cell_type": "markdown",
   "metadata": {},
   "source": [
    "##### caculate each group converstion rate: "
   ]
  },
  {
   "cell_type": "code",
   "execution_count": 40,
   "metadata": {},
   "outputs": [
    {
     "data": {
      "text/html": [
       "<div>\n",
       "<style scoped>\n",
       "    .dataframe tbody tr th:only-of-type {\n",
       "        vertical-align: middle;\n",
       "    }\n",
       "\n",
       "    .dataframe tbody tr th {\n",
       "        vertical-align: top;\n",
       "    }\n",
       "\n",
       "    .dataframe thead th {\n",
       "        text-align: right;\n",
       "    }\n",
       "</style>\n",
       "<table border=\"1\" class=\"dataframe\">\n",
       "  <thead>\n",
       "    <tr style=\"text-align: right;\">\n",
       "      <th></th>\n",
       "      <th>date</th>\n",
       "      <th>group</th>\n",
       "      <th>orders</th>\n",
       "      <th>buyers</th>\n",
       "      <th>revenue</th>\n",
       "      <th>visits</th>\n",
       "      <th>converstion</th>\n",
       "    </tr>\n",
       "  </thead>\n",
       "  <tbody>\n",
       "    <tr>\n",
       "      <th>1</th>\n",
       "      <td>2019-08-01</td>\n",
       "      <td>B</td>\n",
       "      <td>17</td>\n",
       "      <td>17</td>\n",
       "      <td>967.2</td>\n",
       "      <td>713</td>\n",
       "      <td>0.023843</td>\n",
       "    </tr>\n",
       "    <tr>\n",
       "      <th>3</th>\n",
       "      <td>2019-08-02</td>\n",
       "      <td>B</td>\n",
       "      <td>40</td>\n",
       "      <td>39</td>\n",
       "      <td>3535.3</td>\n",
       "      <td>1294</td>\n",
       "      <td>0.030912</td>\n",
       "    </tr>\n",
       "  </tbody>\n",
       "</table>\n",
       "</div>"
      ],
      "text/plain": [
       "         date group  orders  buyers  revenue  visits  converstion\n",
       "1  2019-08-01     B      17      17    967.2     713     0.023843\n",
       "3  2019-08-02     B      40      39   3535.3    1294     0.030912"
      ]
     },
     "execution_count": 40,
     "metadata": {},
     "output_type": "execute_result"
    }
   ],
   "source": [
    "\n",
    "cumu_data['converstion'] = cumu_data['orders']/cumu_data['visits']\n",
    "cumuA = cumu_data.query('group == \"A\"')\n",
    "cumuB = cumu_data.query('group == \"B\"')\n",
    "cumuB.head(2)"
   ]
  },
  {
   "cell_type": "code",
   "execution_count": 41,
   "metadata": {},
   "outputs": [
    {
     "data": {
      "image/png": "[encoded data removed]",
      "text/plain": [
       "<Figure size 864x432 with 1 Axes>"
      ]
     },
     "metadata": {
      "needs_background": "light"
     },
     "output_type": "display_data"
    }
   ],
   "source": [
    "#plot a daily converstion rate for the two groups:\n",
    "%matplotlib inline\n",
    "plt.figure(figsize=(12,6))\n",
    "plt.plot(cumuA['date'], cumuA['converstion'], label ='A')\n",
    "plt.plot(cumuB['date'], cumuB['converstion'], label ='B')\n",
    "plt.title('converstion rate by day and A/B test group')\n",
    "plt.xlabel('day' )\n",
    "plt.ylabel('converstion rate')\n",
    "plt.ylim(ymin = 0)\n",
    "plt.xticks(cumuA['date'].astype('string'), rotation =70 )\n",
    "plt.legend()\n",
    "plt.show()"
   ]
  },
  {
   "cell_type": "markdown",
   "metadata": {},
   "source": [
    "* Group A:\n",
    "    * Starts at 0.032 and has a minor drop and then it rises to 0.036 on 03/08 and then drops all the way to 0.024.\n",
    "    * its stays around this value.\n",
    "    * on 07/08 A conversion rate started falling behind group B\n",
    "* Group B:\n",
    "    * Start at  0.024, rises to 0.031around 03/08, and then drops to 0.027 around 04/08. \n",
    "    * on 05/08 the graph star raising moves over graph A and stays around 0.03. \n",
    "    * so far Group B has a better conversion rate, its lead on average purchase size and in cumulative revenue, "
   ]
  },
  {
   "cell_type": "markdown",
   "metadata": {},
   "source": [
    "##### plot a scatter chart of number of orders per user:"
   ]
  },
  {
   "cell_type": "code",
   "execution_count": 42,
   "metadata": {},
   "outputs": [
    {
     "data": {
      "text/html": [
       "<div>\n",
       "<style scoped>\n",
       "    .dataframe tbody tr th:only-of-type {\n",
       "        vertical-align: middle;\n",
       "    }\n",
       "\n",
       "    .dataframe tbody tr th {\n",
       "        vertical-align: top;\n",
       "    }\n",
       "\n",
       "    .dataframe thead th {\n",
       "        text-align: right;\n",
       "    }\n",
       "</style>\n",
       "<table border=\"1\" class=\"dataframe\">\n",
       "  <thead>\n",
       "    <tr style=\"text-align: right;\">\n",
       "      <th></th>\n",
       "      <th>transactionId</th>\n",
       "      <th>visitorId</th>\n",
       "      <th>date</th>\n",
       "      <th>revenue</th>\n",
       "      <th>group</th>\n",
       "    </tr>\n",
       "  </thead>\n",
       "  <tbody>\n",
       "    <tr>\n",
       "      <th>0</th>\n",
       "      <td>3667963787</td>\n",
       "      <td>3312258926</td>\n",
       "      <td>2019-08-15</td>\n",
       "      <td>30.4</td>\n",
       "      <td>B</td>\n",
       "    </tr>\n",
       "    <tr>\n",
       "      <th>1</th>\n",
       "      <td>2804400009</td>\n",
       "      <td>3642806036</td>\n",
       "      <td>2019-08-15</td>\n",
       "      <td>15.2</td>\n",
       "      <td>B</td>\n",
       "    </tr>\n",
       "  </tbody>\n",
       "</table>\n",
       "</div>"
      ],
      "text/plain": [
       "   transactionId   visitorId        date  revenue group\n",
       "0     3667963787  3312258926  2019-08-15     30.4     B\n",
       "1     2804400009  3642806036  2019-08-15     15.2     B"
      ]
     },
     "execution_count": 42,
     "metadata": {},
     "output_type": "execute_result"
    }
   ],
   "source": [
    "orders.head(2)"
   ]
  },
  {
   "cell_type": "code",
   "execution_count": 43,
   "metadata": {},
   "outputs": [
    {
     "data": {
      "text/html": [
       "<div>\n",
       "<style scoped>\n",
       "    .dataframe tbody tr th:only-of-type {\n",
       "        vertical-align: middle;\n",
       "    }\n",
       "\n",
       "    .dataframe tbody tr th {\n",
       "        vertical-align: top;\n",
       "    }\n",
       "\n",
       "    .dataframe thead th {\n",
       "        text-align: right;\n",
       "    }\n",
       "</style>\n",
       "<table border=\"1\" class=\"dataframe\">\n",
       "  <thead>\n",
       "    <tr style=\"text-align: right;\">\n",
       "      <th></th>\n",
       "      <th>visitorId</th>\n",
       "      <th>n_orders</th>\n",
       "      <th>group</th>\n",
       "      <th>sum_revenue</th>\n",
       "    </tr>\n",
       "  </thead>\n",
       "  <tbody>\n",
       "    <tr>\n",
       "      <th>0</th>\n",
       "      <td>5114589</td>\n",
       "      <td>1</td>\n",
       "      <td>B</td>\n",
       "      <td>10.8</td>\n",
       "    </tr>\n",
       "    <tr>\n",
       "      <th>1</th>\n",
       "      <td>6958315</td>\n",
       "      <td>1</td>\n",
       "      <td>B</td>\n",
       "      <td>25.9</td>\n",
       "    </tr>\n",
       "  </tbody>\n",
       "</table>\n",
       "</div>"
      ],
      "text/plain": [
       "   visitorId  n_orders group  sum_revenue\n",
       "0    5114589         1     B         10.8\n",
       "1    6958315         1     B         25.9"
      ]
     },
     "execution_count": 43,
     "metadata": {},
     "output_type": "execute_result"
    }
   ],
   "source": [
    "grp_user= orders.groupby('visitorId').agg({'transactionId': 'nunique',\n",
    "                                            'group':'max',\n",
    "                                             'revenue': 'sum'}).reset_index()\n",
    "\n",
    "grp_user.columns=['visitorId', 'n_orders', 'group', 'sum_revenue']\n",
    "grp_user.head(2)"
   ]
  },
  {
   "cell_type": "code",
   "execution_count": 44,
   "metadata": {},
   "outputs": [
    {
     "data": {
      "image/png": "[encoded data removed]",
      "text/plain": [
       "<Figure size 432x288 with 1 Axes>"
      ]
     },
     "metadata": {
      "needs_background": "light"
     },
     "output_type": "display_data"
    }
   ],
   "source": [
    "x_value = pd.Series(range(0, len(grp_user['n_orders'])))\n",
    "plt.scatter(x_value, grp_user['n_orders'])\n",
    "plt.title('number of orders per user')\n",
    "plt.xlabel('')\n",
    "plt.ylabel('number of orders')\n",
    "plt.show()"
   ]
  },
  {
   "cell_type": "markdown",
   "metadata": {},
   "source": [
    "The majority of the users made one purchase, some made two, and a few(7) made 3 purchases."
   ]
  },
  {
   "cell_type": "markdown",
   "metadata": {},
   "source": [
    "##### calculate the 95th and 99th percentiles for number of orders per user:"
   ]
  },
  {
   "cell_type": "code",
   "execution_count": 45,
   "metadata": {},
   "outputs": [
    {
     "data": {
      "text/plain": [
       "array([1., 2.])"
      ]
     },
     "execution_count": 45,
     "metadata": {},
     "output_type": "execute_result"
    }
   ],
   "source": [
    "\n",
    "np.percentile(grp_user['n_orders'],[95, 99])"
   ]
  },
  {
   "cell_type": "markdown",
   "metadata": {},
   "source": [
    "* No more than 5% of people who visit the website order more than once.\n",
    "* No more than 1% of people who visits the website order more than twice.\n",
    "* I will define the 99th percentile as the top limit which means order per user < 3. "
   ]
  },
  {
   "cell_type": "code",
   "execution_count": 46,
   "metadata": {},
   "outputs": [
    {
     "data": {
      "text/plain": [
       "55     249864742\n",
       "138    611059232\n",
       "Name: visitorId, dtype: int64"
      ]
     },
     "execution_count": 46,
     "metadata": {},
     "output_type": "execute_result"
    }
   ],
   "source": [
    "outliers_visitorId1 = grp_user.query('n_orders > 2')['visitorId']\n",
    "outliers_visitorId1.head(2)"
   ]
  },
  {
   "cell_type": "markdown",
   "metadata": {},
   "source": [
    "##### plot a scatter chart of order price:"
   ]
  },
  {
   "cell_type": "code",
   "execution_count": 47,
   "metadata": {},
   "outputs": [
    {
     "data": {
      "text/html": [
       "<div>\n",
       "<style scoped>\n",
       "    .dataframe tbody tr th:only-of-type {\n",
       "        vertical-align: middle;\n",
       "    }\n",
       "\n",
       "    .dataframe tbody tr th {\n",
       "        vertical-align: top;\n",
       "    }\n",
       "\n",
       "    .dataframe thead th {\n",
       "        text-align: right;\n",
       "    }\n",
       "</style>\n",
       "<table border=\"1\" class=\"dataframe\">\n",
       "  <thead>\n",
       "    <tr style=\"text-align: right;\">\n",
       "      <th></th>\n",
       "      <th>visitorId</th>\n",
       "      <th>n_orders</th>\n",
       "      <th>group</th>\n",
       "      <th>sum_revenue</th>\n",
       "      <th>order_price</th>\n",
       "    </tr>\n",
       "  </thead>\n",
       "  <tbody>\n",
       "    <tr>\n",
       "      <th>0</th>\n",
       "      <td>5114589</td>\n",
       "      <td>1</td>\n",
       "      <td>B</td>\n",
       "      <td>10.8</td>\n",
       "      <td>10.8</td>\n",
       "    </tr>\n",
       "    <tr>\n",
       "      <th>1</th>\n",
       "      <td>6958315</td>\n",
       "      <td>1</td>\n",
       "      <td>B</td>\n",
       "      <td>25.9</td>\n",
       "      <td>25.9</td>\n",
       "    </tr>\n",
       "  </tbody>\n",
       "</table>\n",
       "</div>"
      ],
      "text/plain": [
       "   visitorId  n_orders group  sum_revenue  order_price\n",
       "0    5114589         1     B         10.8         10.8\n",
       "1    6958315         1     B         25.9         25.9"
      ]
     },
     "execution_count": 47,
     "metadata": {},
     "output_type": "execute_result"
    }
   ],
   "source": [
    "grp_user['order_price']= grp_user['sum_revenue']/grp_user['n_orders']\n",
    "grp_user.head(2)"
   ]
  },
  {
   "cell_type": "code",
   "execution_count": 48,
   "metadata": {},
   "outputs": [
    {
     "data": {
      "text/plain": [
       "Text(0, 0.5, 'order prices')"
      ]
     },
     "execution_count": 48,
     "metadata": {},
     "output_type": "execute_result"
    },
    {
     "data": {
      "image/png": "[encoded data removed]",
      "text/plain": [
       "<Figure size 432x288 with 1 Axes>"
      ]
     },
     "metadata": {
      "needs_background": "light"
     },
     "output_type": "display_data"
    }
   ],
   "source": [
    "x_value = pd.Series(range(0, len(grp_user['order_price'])))\n",
    "plt.scatter(x_value, grp_user['order_price'])\n",
    "plt.title('order prices')\n",
    "plt.xlabel('')\n",
    "plt.ylabel('order prices')"
   ]
  },
  {
   "cell_type": "code",
   "execution_count": 49,
   "metadata": {},
   "outputs": [
    {
     "data": {
      "text/html": [
       "<div>\n",
       "<style scoped>\n",
       "    .dataframe tbody tr th:only-of-type {\n",
       "        vertical-align: middle;\n",
       "    }\n",
       "\n",
       "    .dataframe tbody tr th {\n",
       "        vertical-align: top;\n",
       "    }\n",
       "\n",
       "    .dataframe thead th {\n",
       "        text-align: right;\n",
       "    }\n",
       "</style>\n",
       "<table border=\"1\" class=\"dataframe\">\n",
       "  <thead>\n",
       "    <tr style=\"text-align: right;\">\n",
       "      <th></th>\n",
       "      <th>visitorId</th>\n",
       "      <th>n_orders</th>\n",
       "      <th>group</th>\n",
       "      <th>sum_revenue</th>\n",
       "      <th>order_price</th>\n",
       "    </tr>\n",
       "  </thead>\n",
       "  <tbody>\n",
       "    <tr>\n",
       "      <th>440</th>\n",
       "      <td>1920142716</td>\n",
       "      <td>1</td>\n",
       "      <td>B</td>\n",
       "      <td>19920.4</td>\n",
       "      <td>19920.4</td>\n",
       "    </tr>\n",
       "    <tr>\n",
       "      <th>477</th>\n",
       "      <td>2108080724</td>\n",
       "      <td>1</td>\n",
       "      <td>B</td>\n",
       "      <td>3120.1</td>\n",
       "      <td>3120.1</td>\n",
       "    </tr>\n",
       "  </tbody>\n",
       "</table>\n",
       "</div>"
      ],
      "text/plain": [
       "      visitorId  n_orders group  sum_revenue  order_price\n",
       "440  1920142716         1     B      19920.4      19920.4\n",
       "477  2108080724         1     B       3120.1       3120.1"
      ]
     },
     "execution_count": 49,
     "metadata": {},
     "output_type": "execute_result"
    }
   ],
   "source": [
    "grp_user.query('order_price > 2000')"
   ]
  },
  {
   "cell_type": "code",
   "execution_count": 50,
   "metadata": {},
   "outputs": [
    {
     "data": {
      "text/html": [
       "<div>\n",
       "<style scoped>\n",
       "    .dataframe tbody tr th:only-of-type {\n",
       "        vertical-align: middle;\n",
       "    }\n",
       "\n",
       "    .dataframe tbody tr th {\n",
       "        vertical-align: top;\n",
       "    }\n",
       "\n",
       "    .dataframe thead th {\n",
       "        text-align: right;\n",
       "    }\n",
       "</style>\n",
       "<table border=\"1\" class=\"dataframe\">\n",
       "  <thead>\n",
       "    <tr style=\"text-align: right;\">\n",
       "      <th></th>\n",
       "      <th>transactionId</th>\n",
       "      <th>visitorId</th>\n",
       "      <th>date</th>\n",
       "      <th>revenue</th>\n",
       "      <th>group</th>\n",
       "    </tr>\n",
       "  </thead>\n",
       "  <tbody>\n",
       "    <tr>\n",
       "      <th>425</th>\n",
       "      <td>590470918</td>\n",
       "      <td>1920142716</td>\n",
       "      <td>2019-08-19</td>\n",
       "      <td>19920.4</td>\n",
       "      <td>B</td>\n",
       "    </tr>\n",
       "    <tr>\n",
       "      <th>1196</th>\n",
       "      <td>3936777065</td>\n",
       "      <td>2108080724</td>\n",
       "      <td>2019-08-15</td>\n",
       "      <td>3120.1</td>\n",
       "      <td>B</td>\n",
       "    </tr>\n",
       "  </tbody>\n",
       "</table>\n",
       "</div>"
      ],
      "text/plain": [
       "      transactionId   visitorId        date  revenue group\n",
       "425       590470918  1920142716  2019-08-19  19920.4     B\n",
       "1196     3936777065  2108080724  2019-08-15   3120.1     B"
      ]
     },
     "execution_count": 50,
     "metadata": {},
     "output_type": "execute_result"
    }
   ],
   "source": [
    "orders.query('revenue > 2000')"
   ]
  },
  {
   "cell_type": "markdown",
   "metadata": {},
   "source": [
    "* By the graph above its clear to see that most of the orders do not cross 2000.\n",
    "* Ther's two purchases with exception amount of 19,920.4 at 19/08/2019 and 3120 at 15/08/2019. \n"
   ]
  },
  {
   "cell_type": "markdown",
   "metadata": {},
   "source": [
    "##### calculate the 95th and 99th percentiles for order price:"
   ]
  },
  {
   "cell_type": "code",
   "execution_count": 51,
   "metadata": {},
   "outputs": [
    {
     "data": {
      "text/plain": [
       "array([429.74, 830.3 ])"
      ]
     },
     "execution_count": 51,
     "metadata": {},
     "output_type": "execute_result"
    }
   ],
   "source": [
    "np.percentile(grp_user['order_price'],[95, 99])"
   ]
  },
  {
   "cell_type": "code",
   "execution_count": 52,
   "metadata": {
    "scrolled": true
   },
   "outputs": [
    {
     "data": {
      "text/plain": [
       "Text(0, 0.5, 'order prices')"
      ]
     },
     "execution_count": 52,
     "metadata": {},
     "output_type": "execute_result"
    },
    {
     "data": {
      "image/png": "[encoded data removed]",
      "text/plain": [
       "<Figure size 432x288 with 1 Axes>"
      ]
     },
     "metadata": {
      "needs_background": "light"
     },
     "output_type": "display_data"
    }
   ],
   "source": [
    "grp_new= grp_user.query('order_price < 831')\n",
    "x_value = pd.Series(range(0, len(grp_new['order_price'])))\n",
    "%matplotlib inline\n",
    "plt.scatter(x_value, grp_new['order_price'])\n",
    "plt.title('order prices without outliers')\n",
    "plt.xlabel('')\n",
    "plt.ylabel('order prices')"
   ]
  },
  {
   "cell_type": "markdown",
   "metadata": {},
   "source": [
    "* No more than 5% of the people who visit the website spend more than 429.74\n",
    "* No more than 1% of the people who visit the website spend more than 830.3\n",
    "* I will define the 99th perecentile as normal which mean order price < 831.\n",
    "* As we can see by the graph above, setting the bar over 830 order price, show the distribution of order prices in a better way.\n",
    "* Most of the orders cost less the 200. "
   ]
  },
  {
   "cell_type": "code",
   "execution_count": 53,
   "metadata": {},
   "outputs": [
    {
     "data": {
      "text/plain": [
       "25     148427295\n",
       "200    887908475\n",
       "Name: visitorId, dtype: int64"
      ]
     },
     "execution_count": 53,
     "metadata": {},
     "output_type": "execute_result"
    }
   ],
   "source": [
    "outliers_visitorId2 = grp_user.query('order_price > 830')['visitorId']\n",
    "outliers_visitorId2.head(2)"
   ]
  },
  {
   "cell_type": "code",
   "execution_count": 54,
   "metadata": {},
   "outputs": [
    {
     "data": {
      "text/plain": [
       "55     249864742\n",
       "138    611059232\n",
       "Name: visitorId, dtype: int64"
      ]
     },
     "execution_count": 54,
     "metadata": {},
     "output_type": "execute_result"
    }
   ],
   "source": [
    "# create a list of all visitors I'd that consider as outlier:  \n",
    "outliers_visitorId= outliers_visitorId1.append(outliers_visitorId2)\n",
    "outliers_visitorId.head(2)"
   ]
  },
  {
   "cell_type": "code",
   "execution_count": 55,
   "metadata": {
    "scrolled": true
   },
   "outputs": [
    {
     "name": "stdout",
     "output_type": "stream",
     "text": [
      "<class 'pandas.core.frame.DataFrame'>\n",
      "Int64Index: 983 entries, 0 to 1194\n",
      "Data columns (total 5 columns):\n",
      " #   Column         Non-Null Count  Dtype  \n",
      "---  ------         --------------  -----  \n",
      " 0   transactionId  983 non-null    int64  \n",
      " 1   visitorId      983 non-null    int64  \n",
      " 2   date           983 non-null    object \n",
      " 3   revenue        983 non-null    float64\n",
      " 4   group          983 non-null    object \n",
      "dtypes: float64(1), int64(2), object(2)\n",
      "memory usage: 46.1+ KB\n"
     ]
    }
   ],
   "source": [
    "# create new data set without the outliers: \n",
    "orders_new = orders.query('visitorId not in @outliers_visitorId') \n",
    "orders_new.info()"
   ]
  },
  {
   "cell_type": "markdown",
   "metadata": {},
   "source": [
    "#####  find the statistical significance of the difference in conversion between groups using raw data:"
   ]
  },
  {
   "cell_type": "code",
   "execution_count": 56,
   "metadata": {},
   "outputs": [],
   "source": [
    "# group orders by visitore id, to see how many orders each user has:\n",
    "ordersByUsersA = orders[orders['group']=='A'].groupby('visitorId', as_index=False).agg(\n",
    "                                                    {'transactionId' : pd.Series.nunique})\n",
    "ordersByUsersA.columns = ['userId', 'orders']\n",
    "\n",
    "ordersByUsersB = orders[orders['group']=='B'].groupby('visitorId', as_index=False).agg(\n",
    "                                                    {'transactionId' : pd.Series.nunique})\n",
    "ordersByUsersB.columns = ['userId', 'orders']"
   ]
  },
  {
   "cell_type": "code",
   "execution_count": 57,
   "metadata": {},
   "outputs": [],
   "source": [
    "# find out how many users just visit the website, without orders: \n",
    "num_visits_no_ordersA= visits[visits['group']=='A']['visits'].sum() - len(ordersByUsersA['orders'])\n",
    "num_visits_no_ordersB= visits[visits['group']=='B']['visits'].sum() - len(ordersByUsersB['orders'])"
   ]
  },
  {
   "cell_type": "code",
   "execution_count": 58,
   "metadata": {},
   "outputs": [],
   "source": [
    "# use the findings above to create table with visits an orders: \n",
    "sampleA = pd.concat([ordersByUsersA['orders'],pd.Series(0, index=np.arange(num_visits_no_ordersA), name='orders')],axis=0)\n",
    "sampleB = pd.concat([ordersByUsersB['orders'],pd.Series(0, index=np.arange(num_visits_no_ordersB), name='orders')],axis=0)\n"
   ]
  },
  {
   "cell_type": "markdown",
   "metadata": {},
   "source": [
    "* H0: Conversion in group A is equal to Conversion in group B\n",
    "* H1: Conversion in group A is not equal to Conversion in group B"
   ]
  },
  {
   "cell_type": "code",
   "execution_count": 59,
   "metadata": {},
   "outputs": [
    {
     "data": {
      "text/plain": [
       "0.011018084110014696"
      ]
     },
     "execution_count": 59,
     "metadata": {},
     "output_type": "execute_result"
    }
   ],
   "source": [
    "alpha = 0.05\n",
    "results1 = st.mannwhitneyu(sampleA, sampleB)\n",
    "results1.pvalue"
   ]
  },
  {
   "cell_type": "markdown",
   "metadata": {},
   "source": [
    "* p-value smaller than 0.05 so we reject the null hypotheses, sample A different from sample B\n",
    "* The conversion rate in group A not equal to the conversion rate in group B "
   ]
  },
  {
   "cell_type": "code",
   "execution_count": 60,
   "metadata": {},
   "outputs": [
    {
     "name": "stdout",
     "output_type": "stream",
     "text": [
      "0.160\n"
     ]
    }
   ],
   "source": [
    "# calculate the difference between the 2 samples conversion rate:\n",
    "print(\"{0:.3f}\".format(sampleB.mean()/sampleA.mean()-1)) "
   ]
  },
  {
   "cell_type": "markdown",
   "metadata": {},
   "source": [
    "* group B conversion rate 16% bigger then group A conversion rate. "
   ]
  },
  {
   "cell_type": "markdown",
   "metadata": {},
   "source": [
    "##### Find the statistical significance of the difference in avg order size between groups using raw data:"
   ]
  },
  {
   "cell_type": "code",
   "execution_count": 61,
   "metadata": {},
   "outputs": [],
   "source": [
    "order_size_A= orders[orders['group']=='A']['revenue']\n",
    "order_size_B= orders[orders['group']=='B']['revenue']"
   ]
  },
  {
   "cell_type": "markdown",
   "metadata": {},
   "source": [
    "* H0: average order size in group A is equal to the average order size in group B\n",
    "* H1: average order size in group A is not to the equal average order size in group B"
   ]
  },
  {
   "cell_type": "code",
   "execution_count": 62,
   "metadata": {},
   "outputs": [
    {
     "data": {
      "text/plain": [
       "0.8622329690015668"
      ]
     },
     "execution_count": 62,
     "metadata": {},
     "output_type": "execute_result"
    }
   ],
   "source": [
    "alpha = 0.05\n",
    "results2 = st.mannwhitneyu(order_size_A, order_size_B)\n",
    "results2.pvalue"
   ]
  },
  {
   "cell_type": "markdown",
   "metadata": {},
   "source": [
    "* p-value greater than 0.05 so we can't reject the null hypotheses \n",
    "* We can't say that the avg order size is not equal between the groups "
   ]
  },
  {
   "cell_type": "code",
   "execution_count": 63,
   "metadata": {},
   "outputs": [
    {
     "data": {
      "text/plain": [
       "0.2783448769307848"
      ]
     },
     "execution_count": 63,
     "metadata": {},
     "output_type": "execute_result"
    }
   ],
   "source": [
    "(order_size_B.mean()/order_size_A.mean())-1"
   ]
  },
  {
   "cell_type": "markdown",
   "metadata": {},
   "source": [
    "* There is a relative difference of 28% between the group's average orders size, group B  average  order size is 28% greater than group A avg order size"
   ]
  },
  {
   "cell_type": "markdown",
   "metadata": {},
   "source": [
    "##### find the statistical significance of the difference in conversion between groups using new data:"
   ]
  },
  {
   "cell_type": "code",
   "execution_count": 64,
   "metadata": {},
   "outputs": [],
   "source": [
    "ordersByUsersA_new = orders_new[orders_new['group']=='A'].groupby('visitorId', as_index=False).agg(\n",
    "                                                    {'transactionId' : pd.Series.nunique})\n",
    "ordersByUsersA_new.columns = ['userId', 'orders']\n",
    "\n",
    "ordersByUsersB_new = orders_new[orders_new['group']=='B'].groupby('visitorId', as_index=False).agg(\n",
    "                                                    {'transactionId' : pd.Series.nunique})\n",
    "ordersByUsersB_new.columns = ['userId', 'orders']\n",
    "\n",
    "num_visits_no_ordersA_new= visits[visits['group']=='A']['visits'].sum() - len(ordersByUsersA_new['orders'])\n",
    "num_visits_no_ordersB_new= visits[visits['group']=='B']['visits'].sum() - len(ordersByUsersB_new['orders'])\n",
    "\n",
    "sampleA_new = pd.concat([ordersByUsersA_new['orders'],pd.Series(0, index=np.arange(num_visits_no_ordersA_new), name='orders')],axis=0)\n",
    "sampleB_new = pd.concat([ordersByUsersB_new['orders'],pd.Series(0, index=np.arange(num_visits_no_ordersB_new), name='orders')],axis=0)"
   ]
  },
  {
   "cell_type": "code",
   "execution_count": 65,
   "metadata": {},
   "outputs": [
    {
     "data": {
      "text/html": [
       "<div>\n",
       "<style scoped>\n",
       "    .dataframe tbody tr th:only-of-type {\n",
       "        vertical-align: middle;\n",
       "    }\n",
       "\n",
       "    .dataframe tbody tr th {\n",
       "        vertical-align: top;\n",
       "    }\n",
       "\n",
       "    .dataframe thead th {\n",
       "        text-align: right;\n",
       "    }\n",
       "</style>\n",
       "<table border=\"1\" class=\"dataframe\">\n",
       "  <thead>\n",
       "    <tr style=\"text-align: right;\">\n",
       "      <th></th>\n",
       "      <th>userId</th>\n",
       "      <th>orders</th>\n",
       "    </tr>\n",
       "  </thead>\n",
       "  <tbody>\n",
       "    <tr>\n",
       "      <th>0</th>\n",
       "      <td>11685486</td>\n",
       "      <td>1</td>\n",
       "    </tr>\n",
       "    <tr>\n",
       "      <th>1</th>\n",
       "      <td>54447517</td>\n",
       "      <td>1</td>\n",
       "    </tr>\n",
       "  </tbody>\n",
       "</table>\n",
       "</div>"
      ],
      "text/plain": [
       "     userId  orders\n",
       "0  11685486       1\n",
       "1  54447517       1"
      ]
     },
     "execution_count": 65,
     "metadata": {},
     "output_type": "execute_result"
    }
   ],
   "source": [
    "ordersByUsersA_new.head(2)"
   ]
  },
  {
   "cell_type": "markdown",
   "metadata": {},
   "source": [
    "* H0: Conversion in group A is equal to Conversion in group B\n",
    "* H1: Conversion in group A is not equal to Conversion in group B"
   ]
  },
  {
   "cell_type": "code",
   "execution_count": 66,
   "metadata": {},
   "outputs": [
    {
     "data": {
      "text/plain": [
       "0.0062083132347477525"
      ]
     },
     "execution_count": 66,
     "metadata": {},
     "output_type": "execute_result"
    }
   ],
   "source": [
    "alpha = 0.05\n",
    "results3 = st.mannwhitneyu(sampleA_new, sampleB_new)\n",
    "results3.pvalue"
   ]
  },
  {
   "cell_type": "markdown",
   "metadata": {},
   "source": [
    "* p-value smaller than 0.05 so we reject the null hypotheses.\n",
    "* The conversion rate in group A not equal to the conversion rate in group B"
   ]
  },
  {
   "cell_type": "code",
   "execution_count": 67,
   "metadata": {},
   "outputs": [
    {
     "data": {
      "text/plain": [
       "0.1925785654206893"
      ]
     },
     "execution_count": 67,
     "metadata": {},
     "output_type": "execute_result"
    }
   ],
   "source": [
    "(sampleB_new.mean()/sampleA_new.mean())-1"
   ]
  },
  {
   "cell_type": "markdown",
   "metadata": {},
   "source": [
    "* The relative difference of the conversion is 19.26%, group B conversion rate is 16.15% smaller than group A conversion rate"
   ]
  },
  {
   "cell_type": "markdown",
   "metadata": {},
   "source": [
    "#####  Find the statistical significance of the difference in avg order size between groups using new data:"
   ]
  },
  {
   "cell_type": "code",
   "execution_count": 68,
   "metadata": {},
   "outputs": [],
   "source": [
    "order_size_A_new= orders_new[orders_new['group']=='A']['revenue']\n",
    "order_size_B_new= orders_new[orders_new['group']=='B']['revenue']"
   ]
  },
  {
   "cell_type": "markdown",
   "metadata": {},
   "source": [
    "* H0: average order size in group A is equal to the average order size in group B\n",
    "* H1: average order size in group A is not to the equal average order size in group B"
   ]
  },
  {
   "cell_type": "code",
   "execution_count": 69,
   "metadata": {},
   "outputs": [
    {
     "data": {
      "text/plain": [
       "0.8767101122551697"
      ]
     },
     "execution_count": 69,
     "metadata": {},
     "output_type": "execute_result"
    }
   ],
   "source": [
    "alpha = 0.05\n",
    "results4 = st.mannwhitneyu(order_size_A_new, order_size_B_new)\n",
    "results4.pvalue"
   ]
  },
  {
   "cell_type": "markdown",
   "metadata": {},
   "source": [
    "* p-value greater than 0.05 so we can't reject the null hypotheses\n",
    "* We cannot say that the average order size in group A not equal to the average order size in group B"
   ]
  },
  {
   "cell_type": "code",
   "execution_count": 70,
   "metadata": {},
   "outputs": [
    {
     "data": {
      "text/plain": [
       "-0.013861500572296626"
      ]
     },
     "execution_count": 70,
     "metadata": {},
     "output_type": "execute_result"
    }
   ],
   "source": [
    "(order_size_B_new.mean()/order_size_A_new.mean())-1"
   ]
  },
  {
   "cell_type": "markdown",
   "metadata": {},
   "source": [
    "* The relative difference of the avg_order_size is -1.4%, group B avg_order_size is 1.4% smller then group A avg_order_size"
   ]
  },
  {
   "cell_type": "markdown",
   "metadata": {},
   "source": [
    "#### Conclusion: \n",
    "\n",
    "* Nor the conversion rate nor the average order size got to the stable stage in the graphs above.\n",
    "By this factor only I would like to continue the test, its only been running for a month, and I would like to give this test more time. \n",
    "\n",
    "* By testing the hypotheses considering the raw data we found:\n",
    "    * for the conversion P-value of 0.011, so we reject the null hypotheses.\n",
    "    * There is  a difference of 16% between the group's conversion rate (group B greater)\n",
    "    * for the average order size  P-value of 0.86, so there is no way to reject the null hypotheses.\n",
    "    * There is  a difference of 28% between the group's average order size (group B greater)\n",
    "    \n",
    "* By testing the hypotheses considering the clean data we found:\n",
    "    * for the conversion P-value of 0.006, so we reject the null hypotheses.\n",
    "    * There is  a difference of 19% between the group's conversion rate (group B greater)\n",
    "    * for the average order size  P-value of 0.87, so there is no way to reject the null hypotheses.\n",
    "    * There is  a difference of -1.4% between the group's average order size (group B smaller)\n",
    "    \n",
    "* The outlier removal has affected the results.\n",
    "\n",
    "**Coclution:**\n",
    "* At first, I  thought it better to continue the test, and give it some time maybe the results will stabilize, I would like to have better knowledge about the costs so I could see the whole picture. \n",
    "* After going through the hypotheses test, It's been established, the groups are different by conversion rate.\n",
    "* Group B has better results. \n",
    "* Judging by the average order size there are no differences between the groups.\n",
    "* At the clean(new) data, a difference of 1.4% was discovered between the groups, which I believe is relatively small. \n",
    "* I'm suggesting stopping the test, and considering group B as the leader. \n"
   ]
  },
  {
   "cell_type": "code",
   "execution_count": null,
   "metadata": {},
   "outputs": [],
   "source": []
  }
 ],
 "metadata": {
  "ExecuteTimeLog": [
   {
    "duration": 1863,
    "start_time": "2022-04-03T04:52:49.150Z"
   },
   {
    "duration": 5,
    "start_time": "2022-04-03T04:52:51.016Z"
   },
   {
    "duration": 49,
    "start_time": "2022-04-03T04:52:51.643Z"
   },
   {
    "duration": 560,
    "start_time": "2022-04-03T04:52:52.571Z"
   },
   {
    "duration": 4,
    "start_time": "2022-04-03T04:53:42.111Z"
   },
   {
    "duration": 3,
    "start_time": "2022-04-03T04:53:43.387Z"
   },
   {
    "duration": 31,
    "start_time": "2022-04-03T04:53:44.310Z"
   },
   {
    "duration": 62,
    "start_time": "2022-04-03T04:53:45.374Z"
   },
   {
    "duration": 34,
    "start_time": "2022-04-03T04:53:46.674Z"
   },
   {
    "duration": 12,
    "start_time": "2022-04-03T04:53:51.760Z"
   },
   {
    "duration": 2,
    "start_time": "2022-04-03T04:53:56.488Z"
   },
   {
    "duration": 3,
    "start_time": "2022-04-03T04:53:58.539Z"
   },
   {
    "duration": 20,
    "start_time": "2022-04-03T04:54:01.136Z"
   },
   {
    "duration": 15,
    "start_time": "2022-04-03T04:54:03.954Z"
   },
   {
    "duration": 8,
    "start_time": "2022-04-03T04:54:04.337Z"
   },
   {
    "duration": 10,
    "start_time": "2022-04-03T04:54:04.779Z"
   },
   {
    "duration": 37,
    "start_time": "2022-04-03T04:54:34.085Z"
   },
   {
    "duration": 10,
    "start_time": "2022-04-03T04:54:40.639Z"
   },
   {
    "duration": 8,
    "start_time": "2022-04-03T04:54:46.642Z"
   },
   {
    "duration": 7,
    "start_time": "2022-04-03T04:54:48.689Z"
   },
   {
    "duration": 13,
    "start_time": "2022-04-03T04:54:52.059Z"
   },
   {
    "duration": 18,
    "start_time": "2022-04-03T04:54:52.365Z"
   },
   {
    "duration": 16,
    "start_time": "2022-04-03T04:55:02.462Z"
   },
   {
    "duration": 318,
    "start_time": "2022-04-03T04:55:05.958Z"
   },
   {
    "duration": 232,
    "start_time": "2022-04-03T04:55:07.062Z"
   },
   {
    "duration": 22,
    "start_time": "2022-04-03T04:55:07.993Z"
   },
   {
    "duration": 446,
    "start_time": "2022-04-03T04:55:08.787Z"
   },
   {
    "duration": 305,
    "start_time": "2022-04-03T04:56:28.460Z"
   },
   {
    "duration": 569,
    "start_time": "2022-04-03T05:00:11.057Z"
   },
   {
    "duration": 463,
    "start_time": "2022-04-03T05:00:23.117Z"
   },
   {
    "duration": 451,
    "start_time": "2022-04-03T05:16:17.228Z"
   },
   {
    "duration": 22,
    "start_time": "2022-04-03T05:44:23.565Z"
   },
   {
    "duration": 23,
    "start_time": "2022-04-03T05:46:49.488Z"
   },
   {
    "duration": 422,
    "start_time": "2022-04-03T05:50:57.363Z"
   },
   {
    "duration": 232,
    "start_time": "2022-04-03T05:51:27.788Z"
   },
   {
    "duration": 661,
    "start_time": "2022-04-03T05:51:51.138Z"
   },
   {
    "duration": 760,
    "start_time": "2022-04-03T05:52:01.676Z"
   },
   {
    "duration": 566,
    "start_time": "2022-04-03T06:11:51.458Z"
   },
   {
    "duration": 542,
    "start_time": "2022-04-03T06:12:00.713Z"
   },
   {
    "duration": 12,
    "start_time": "2022-04-03T06:22:47.463Z"
   },
   {
    "duration": 13,
    "start_time": "2022-04-03T06:23:14.855Z"
   },
   {
    "duration": 12,
    "start_time": "2022-04-03T06:24:46.928Z"
   },
   {
    "duration": 21,
    "start_time": "2022-04-03T06:25:07.238Z"
   },
   {
    "duration": 21,
    "start_time": "2022-04-03T06:25:18.702Z"
   },
   {
    "duration": 485,
    "start_time": "2022-04-03T06:28:13.339Z"
   },
   {
    "duration": 207,
    "start_time": "2022-04-03T07:06:07.851Z"
   },
   {
    "duration": 13,
    "start_time": "2022-04-03T07:07:27.527Z"
   },
   {
    "duration": 6,
    "start_time": "2022-04-03T07:08:23.700Z"
   },
   {
    "duration": 9,
    "start_time": "2022-04-03T07:08:34.223Z"
   },
   {
    "duration": 13,
    "start_time": "2022-04-03T07:09:19.262Z"
   },
   {
    "duration": 216,
    "start_time": "2022-04-03T07:13:01.157Z"
   },
   {
    "duration": 318,
    "start_time": "2022-04-03T07:15:27.284Z"
   },
   {
    "duration": 46,
    "start_time": "2022-04-03T13:31:03.296Z"
   },
   {
    "duration": 1290,
    "start_time": "2022-04-03T13:31:08.261Z"
   },
   {
    "duration": 2,
    "start_time": "2022-04-03T13:31:09.553Z"
   },
   {
    "duration": 33,
    "start_time": "2022-04-03T13:31:09.557Z"
   },
   {
    "duration": 41,
    "start_time": "2022-04-03T13:31:09.591Z"
   },
   {
    "duration": 21,
    "start_time": "2022-04-03T13:31:09.633Z"
   },
   {
    "duration": 6,
    "start_time": "2022-04-03T13:31:09.656Z"
   },
   {
    "duration": 5,
    "start_time": "2022-04-03T13:31:09.664Z"
   },
   {
    "duration": 2,
    "start_time": "2022-04-03T13:31:09.952Z"
   },
   {
    "duration": 13,
    "start_time": "2022-04-03T13:31:10.289Z"
   },
   {
    "duration": 11,
    "start_time": "2022-04-03T13:31:10.451Z"
   },
   {
    "duration": 6,
    "start_time": "2022-04-03T13:31:10.615Z"
   },
   {
    "duration": 7,
    "start_time": "2022-04-03T13:31:10.798Z"
   },
   {
    "duration": 23,
    "start_time": "2022-04-03T13:31:11.104Z"
   },
   {
    "duration": 7,
    "start_time": "2022-04-03T13:31:11.451Z"
   },
   {
    "duration": 5,
    "start_time": "2022-04-03T13:31:11.642Z"
   },
   {
    "duration": 5,
    "start_time": "2022-04-03T13:31:11.805Z"
   },
   {
    "duration": 8,
    "start_time": "2022-04-03T13:31:11.970Z"
   },
   {
    "duration": 9,
    "start_time": "2022-04-03T13:31:12.146Z"
   },
   {
    "duration": 10,
    "start_time": "2022-04-03T13:31:12.675Z"
   },
   {
    "duration": 179,
    "start_time": "2022-04-03T13:31:12.860Z"
   },
   {
    "duration": 114,
    "start_time": "2022-04-03T13:31:13.067Z"
   },
   {
    "duration": 13,
    "start_time": "2022-04-03T13:31:13.218Z"
   },
   {
    "duration": 322,
    "start_time": "2022-04-03T13:31:13.380Z"
   },
   {
    "duration": 238,
    "start_time": "2022-04-03T13:31:13.737Z"
   },
   {
    "duration": 16,
    "start_time": "2022-04-03T13:31:14.119Z"
   },
   {
    "duration": 376,
    "start_time": "2022-04-03T13:31:14.311Z"
   },
   {
    "duration": 9,
    "start_time": "2022-04-03T13:31:15.360Z"
   },
   {
    "duration": 14,
    "start_time": "2022-04-03T13:31:16.278Z"
   },
   {
    "duration": 249,
    "start_time": "2022-04-03T13:31:17.157Z"
   },
   {
    "duration": 8,
    "start_time": "2022-04-03T13:31:18.359Z"
   },
   {
    "duration": 8,
    "start_time": "2022-04-03T13:31:19.359Z"
   },
   {
    "duration": 122,
    "start_time": "2022-04-03T13:31:20.242Z"
   },
   {
    "duration": 6,
    "start_time": "2022-04-03T13:31:22.993Z"
   },
   {
    "duration": 5,
    "start_time": "2022-04-03T13:32:55.112Z"
   },
   {
    "duration": 9,
    "start_time": "2022-04-03T13:52:21.254Z"
   },
   {
    "duration": 8,
    "start_time": "2022-04-03T13:56:11.650Z"
   },
   {
    "duration": 177,
    "start_time": "2022-04-03T13:59:39.291Z"
   },
   {
    "duration": 79,
    "start_time": "2022-04-03T14:00:17.115Z"
   },
   {
    "duration": 172,
    "start_time": "2022-04-03T14:00:39.873Z"
   },
   {
    "duration": 5,
    "start_time": "2022-04-03T14:00:45.783Z"
   },
   {
    "duration": 8,
    "start_time": "2022-04-03T14:01:02.133Z"
   },
   {
    "duration": 106,
    "start_time": "2022-04-03T14:03:19.041Z"
   },
   {
    "duration": 125,
    "start_time": "2022-04-03T14:03:38.083Z"
   },
   {
    "duration": 4,
    "start_time": "2022-04-03T14:03:43.153Z"
   },
   {
    "duration": 57,
    "start_time": "2022-04-03T14:04:20.635Z"
   },
   {
    "duration": 9,
    "start_time": "2022-04-03T14:04:49.427Z"
   },
   {
    "duration": 218,
    "start_time": "2022-04-03T14:06:17.574Z"
   },
   {
    "duration": 10,
    "start_time": "2022-04-03T14:08:09.700Z"
   },
   {
    "duration": 10,
    "start_time": "2022-04-03T14:10:13.986Z"
   },
   {
    "duration": 5,
    "start_time": "2022-04-03T14:13:58.523Z"
   },
   {
    "duration": 84,
    "start_time": "2022-04-03T14:32:18.006Z"
   },
   {
    "duration": 120,
    "start_time": "2022-04-03T14:32:20.596Z"
   },
   {
    "duration": 4,
    "start_time": "2022-04-03T14:32:27.655Z"
   },
   {
    "duration": 9,
    "start_time": "2022-04-03T14:32:30.156Z"
   },
   {
    "duration": 127,
    "start_time": "2022-04-03T14:32:31.065Z"
   },
   {
    "duration": 10,
    "start_time": "2022-04-03T14:32:45.437Z"
   },
   {
    "duration": 4,
    "start_time": "2022-04-03T14:32:47.357Z"
   },
   {
    "duration": 5,
    "start_time": "2022-04-03T15:09:40.057Z"
   },
   {
    "duration": 4,
    "start_time": "2022-04-03T15:09:46.877Z"
   },
   {
    "duration": 5,
    "start_time": "2022-04-03T15:09:54.387Z"
   },
   {
    "duration": 8,
    "start_time": "2022-04-03T15:10:39.023Z"
   },
   {
    "duration": 5,
    "start_time": "2022-04-03T15:12:10.401Z"
   },
   {
    "duration": 7,
    "start_time": "2022-04-03T15:12:18.760Z"
   },
   {
    "duration": 6,
    "start_time": "2022-04-03T15:15:23.102Z"
   },
   {
    "duration": 13,
    "start_time": "2022-04-03T15:17:28.633Z"
   },
   {
    "duration": 11,
    "start_time": "2022-04-03T15:17:32.939Z"
   },
   {
    "duration": 7,
    "start_time": "2022-04-03T15:17:41.493Z"
   },
   {
    "duration": 9,
    "start_time": "2022-04-03T15:19:10.969Z"
   },
   {
    "duration": 6,
    "start_time": "2022-04-03T15:19:20.282Z"
   },
   {
    "duration": 7,
    "start_time": "2022-04-03T15:19:27.528Z"
   },
   {
    "duration": 3,
    "start_time": "2022-04-03T15:19:27.951Z"
   },
   {
    "duration": 5,
    "start_time": "2022-04-03T15:19:35.046Z"
   },
   {
    "duration": 7,
    "start_time": "2022-04-03T15:20:53.233Z"
   },
   {
    "duration": 8,
    "start_time": "2022-04-03T15:21:05.674Z"
   },
   {
    "duration": 5,
    "start_time": "2022-04-03T15:22:09.528Z"
   },
   {
    "duration": 14,
    "start_time": "2022-04-03T15:22:23.214Z"
   },
   {
    "duration": 10,
    "start_time": "2022-04-03T15:38:51.842Z"
   },
   {
    "duration": 9,
    "start_time": "2022-04-03T15:39:13.630Z"
   },
   {
    "duration": 4,
    "start_time": "2022-04-03T15:39:45.315Z"
   },
   {
    "duration": 9,
    "start_time": "2022-04-03T15:39:52.651Z"
   },
   {
    "duration": 8,
    "start_time": "2022-04-03T15:40:07.491Z"
   },
   {
    "duration": 8,
    "start_time": "2022-04-03T15:40:44.504Z"
   },
   {
    "duration": 6,
    "start_time": "2022-04-03T15:40:49.342Z"
   },
   {
    "duration": 5,
    "start_time": "2022-04-03T16:03:51.820Z"
   },
   {
    "duration": 4,
    "start_time": "2022-04-03T16:04:04.562Z"
   },
   {
    "duration": 7,
    "start_time": "2022-04-03T16:28:16.230Z"
   },
   {
    "duration": 7,
    "start_time": "2022-04-03T16:28:32.192Z"
   },
   {
    "duration": 7,
    "start_time": "2022-04-03T16:32:21.180Z"
   },
   {
    "duration": 5,
    "start_time": "2022-04-03T16:32:51.995Z"
   },
   {
    "duration": 5,
    "start_time": "2022-04-03T16:36:28.538Z"
   },
   {
    "duration": 177,
    "start_time": "2022-04-03T16:42:36.907Z"
   },
   {
    "duration": 173,
    "start_time": "2022-04-03T16:44:57.713Z"
   },
   {
    "duration": 184,
    "start_time": "2022-04-03T16:48:45.441Z"
   },
   {
    "duration": 5,
    "start_time": "2022-04-03T16:54:18.188Z"
   },
   {
    "duration": 4,
    "start_time": "2022-04-03T16:54:27.393Z"
   },
   {
    "duration": 6,
    "start_time": "2022-04-03T16:54:44.227Z"
   },
   {
    "duration": 5,
    "start_time": "2022-04-03T16:54:55.851Z"
   },
   {
    "duration": 49,
    "start_time": "2022-04-04T05:15:33.180Z"
   },
   {
    "duration": 1304,
    "start_time": "2022-04-04T05:15:40.515Z"
   },
   {
    "duration": 2,
    "start_time": "2022-04-04T05:15:41.821Z"
   },
   {
    "duration": 30,
    "start_time": "2022-04-04T05:15:41.825Z"
   },
   {
    "duration": 42,
    "start_time": "2022-04-04T05:15:41.857Z"
   },
   {
    "duration": 24,
    "start_time": "2022-04-04T05:15:41.900Z"
   },
   {
    "duration": 7,
    "start_time": "2022-04-04T05:15:42.534Z"
   },
   {
    "duration": 2,
    "start_time": "2022-04-04T05:15:43.330Z"
   },
   {
    "duration": 2,
    "start_time": "2022-04-04T05:15:44.099Z"
   },
   {
    "duration": 11,
    "start_time": "2022-04-04T05:15:45.818Z"
   },
   {
    "duration": 11,
    "start_time": "2022-04-04T05:15:46.623Z"
   },
   {
    "duration": 7,
    "start_time": "2022-04-04T05:15:47.487Z"
   },
   {
    "duration": 7,
    "start_time": "2022-04-04T05:15:49.561Z"
   },
   {
    "duration": 27,
    "start_time": "2022-04-04T05:15:50.655Z"
   },
   {
    "duration": 8,
    "start_time": "2022-04-04T05:15:52.723Z"
   },
   {
    "duration": 6,
    "start_time": "2022-04-04T05:15:53.280Z"
   },
   {
    "duration": 6,
    "start_time": "2022-04-04T05:15:53.824Z"
   },
   {
    "duration": 9,
    "start_time": "2022-04-04T05:15:54.558Z"
   },
   {
    "duration": 9,
    "start_time": "2022-04-04T05:15:55.355Z"
   },
   {
    "duration": 3,
    "start_time": "2022-04-04T05:15:57.258Z"
   },
   {
    "duration": 5,
    "start_time": "2022-04-04T05:18:10.045Z"
   },
   {
    "duration": 4,
    "start_time": "2022-04-04T05:18:20.036Z"
   },
   {
    "duration": 1696,
    "start_time": "2022-04-04T09:49:32.221Z"
   },
   {
    "duration": 3,
    "start_time": "2022-04-04T09:49:33.920Z"
   },
   {
    "duration": 45,
    "start_time": "2022-04-04T09:49:33.925Z"
   },
   {
    "duration": 53,
    "start_time": "2022-04-04T09:49:33.973Z"
   },
   {
    "duration": 29,
    "start_time": "2022-04-04T09:49:34.029Z"
   },
   {
    "duration": 25,
    "start_time": "2022-04-04T09:49:34.060Z"
   },
   {
    "duration": 5,
    "start_time": "2022-04-04T09:49:34.087Z"
   },
   {
    "duration": 7,
    "start_time": "2022-04-04T09:49:34.095Z"
   },
   {
    "duration": 18,
    "start_time": "2022-04-04T09:49:34.104Z"
   },
   {
    "duration": 14,
    "start_time": "2022-04-04T09:49:34.124Z"
   },
   {
    "duration": 44,
    "start_time": "2022-04-04T09:49:34.140Z"
   },
   {
    "duration": 9,
    "start_time": "2022-04-04T09:49:34.187Z"
   },
   {
    "duration": 34,
    "start_time": "2022-04-04T09:49:34.199Z"
   },
   {
    "duration": 10,
    "start_time": "2022-04-04T09:49:34.237Z"
   },
   {
    "duration": 39,
    "start_time": "2022-04-04T09:49:34.250Z"
   },
   {
    "duration": 7,
    "start_time": "2022-04-04T09:49:34.292Z"
   },
   {
    "duration": 14,
    "start_time": "2022-04-04T09:49:34.302Z"
   },
   {
    "duration": 14,
    "start_time": "2022-04-04T09:49:34.319Z"
   },
   {
    "duration": 9,
    "start_time": "2022-04-04T09:49:34.383Z"
   },
   {
    "duration": 15,
    "start_time": "2022-04-04T09:49:34.394Z"
   },
   {
    "duration": 339,
    "start_time": "2022-04-04T09:49:34.412Z"
   },
   {
    "duration": 241,
    "start_time": "2022-04-04T09:49:34.754Z"
   },
   {
    "duration": 21,
    "start_time": "2022-04-04T09:49:34.998Z"
   },
   {
    "duration": 563,
    "start_time": "2022-04-04T09:49:35.022Z"
   },
   {
    "duration": 519,
    "start_time": "2022-04-04T09:49:35.588Z"
   },
   {
    "duration": 25,
    "start_time": "2022-04-04T09:49:36.110Z"
   },
   {
    "duration": 574,
    "start_time": "2022-04-04T09:49:36.138Z"
   },
   {
    "duration": 12,
    "start_time": "2022-04-04T09:49:36.715Z"
   },
   {
    "duration": 22,
    "start_time": "2022-04-04T09:49:36.730Z"
   },
   {
    "duration": 406,
    "start_time": "2022-04-04T09:49:36.782Z"
   },
   {
    "duration": 14,
    "start_time": "2022-04-04T09:49:37.191Z"
   },
   {
    "duration": 190,
    "start_time": "2022-04-04T09:49:37.208Z"
   },
   {
    "duration": 230,
    "start_time": "2022-04-04T09:49:37.401Z"
   },
   {
    "duration": 8,
    "start_time": "2022-04-04T09:49:37.634Z"
   },
   {
    "duration": 10,
    "start_time": "2022-04-04T09:49:37.645Z"
   },
   {
    "duration": 38,
    "start_time": "2022-04-04T09:49:37.657Z"
   },
   {
    "duration": 261,
    "start_time": "2022-04-04T09:49:37.697Z"
   },
   {
    "duration": 23,
    "start_time": "2022-04-04T09:49:37.961Z"
   },
   {
    "duration": 18,
    "start_time": "2022-04-04T09:49:37.987Z"
   },
   {
    "duration": 8,
    "start_time": "2022-04-04T09:49:38.007Z"
   },
   {
    "duration": 10,
    "start_time": "2022-04-04T09:49:38.020Z"
   },
   {
    "duration": 9,
    "start_time": "2022-04-04T09:49:38.033Z"
   },
   {
    "duration": 44,
    "start_time": "2022-04-04T09:49:38.044Z"
   },
   {
    "duration": 10,
    "start_time": "2022-04-04T09:49:38.090Z"
   },
   {
    "duration": 14,
    "start_time": "2022-04-04T09:49:38.103Z"
   },
   {
    "duration": 10,
    "start_time": "2022-04-04T09:49:38.120Z"
   },
   {
    "duration": 56,
    "start_time": "2022-04-04T09:49:38.133Z"
   },
   {
    "duration": 337,
    "start_time": "2022-04-04T09:49:38.192Z"
   },
   {
    "duration": 8,
    "start_time": "2022-04-04T09:49:38.531Z"
   },
   {
    "duration": 9,
    "start_time": "2022-04-04T09:49:38.541Z"
   },
   {
    "duration": 31,
    "start_time": "2022-04-04T09:49:38.552Z"
   },
   {
    "duration": 6,
    "start_time": "2022-04-04T09:49:38.585Z"
   },
   {
    "duration": 132,
    "start_time": "2022-04-04T10:06:29.003Z"
   },
   {
    "duration": 7,
    "start_time": "2022-04-04T10:08:50.201Z"
   },
   {
    "duration": 21,
    "start_time": "2022-04-04T10:15:03.904Z"
   },
   {
    "duration": 144,
    "start_time": "2022-04-04T10:52:49.828Z"
   },
   {
    "duration": 1430,
    "start_time": "2022-04-04T10:53:04.509Z"
   },
   {
    "duration": 2,
    "start_time": "2022-04-04T10:53:05.942Z"
   },
   {
    "duration": 60,
    "start_time": "2022-04-04T10:53:05.946Z"
   },
   {
    "duration": 143,
    "start_time": "2022-04-04T10:53:08.293Z"
   },
   {
    "duration": 43,
    "start_time": "2022-04-04T10:53:09.162Z"
   },
   {
    "duration": 25,
    "start_time": "2022-04-04T10:53:10.457Z"
   },
   {
    "duration": 9,
    "start_time": "2022-04-04T10:53:12.187Z"
   },
   {
    "duration": 3,
    "start_time": "2022-04-04T10:53:13.634Z"
   },
   {
    "duration": 3,
    "start_time": "2022-04-04T10:53:14.852Z"
   },
   {
    "duration": 148,
    "start_time": "2022-04-04T10:53:20.735Z"
   },
   {
    "duration": 5,
    "start_time": "2022-04-04T10:53:45.420Z"
   },
   {
    "duration": 5,
    "start_time": "2022-04-04T10:55:34.742Z"
   },
   {
    "duration": 5,
    "start_time": "2022-04-04T10:59:23.063Z"
   },
   {
    "duration": 6,
    "start_time": "2022-04-04T11:00:38.374Z"
   },
   {
    "duration": 8,
    "start_time": "2022-04-04T11:01:29.321Z"
   },
   {
    "duration": 18,
    "start_time": "2022-04-04T11:02:33.374Z"
   },
   {
    "duration": 11,
    "start_time": "2022-04-04T11:02:42.383Z"
   },
   {
    "duration": 134,
    "start_time": "2022-04-04T11:24:04.234Z"
   },
   {
    "duration": 4,
    "start_time": "2022-04-04T11:24:20.749Z"
   },
   {
    "duration": 2,
    "start_time": "2022-04-04T11:24:21.100Z"
   },
   {
    "duration": 15,
    "start_time": "2022-04-04T11:24:21.438Z"
   },
   {
    "duration": 8,
    "start_time": "2022-04-04T11:24:22.059Z"
   },
   {
    "duration": 60,
    "start_time": "2022-04-04T11:24:22.522Z"
   },
   {
    "duration": 33,
    "start_time": "2022-04-04T11:24:22.970Z"
   },
   {
    "duration": 8,
    "start_time": "2022-04-04T11:24:23.892Z"
   },
   {
    "duration": 3,
    "start_time": "2022-04-04T11:24:24.783Z"
   },
   {
    "duration": 3,
    "start_time": "2022-04-04T11:24:25.608Z"
   },
   {
    "duration": 13,
    "start_time": "2022-04-04T11:24:26.490Z"
   },
   {
    "duration": 13,
    "start_time": "2022-04-04T11:24:27.049Z"
   },
   {
    "duration": 7,
    "start_time": "2022-04-04T11:24:27.806Z"
   },
   {
    "duration": 7,
    "start_time": "2022-04-04T11:24:28.413Z"
   },
   {
    "duration": 30,
    "start_time": "2022-04-04T11:24:33.427Z"
   },
   {
    "duration": 5,
    "start_time": "2022-04-04T11:26:39.373Z"
   },
   {
    "duration": 7,
    "start_time": "2022-04-04T11:26:48.138Z"
   },
   {
    "duration": 9,
    "start_time": "2022-04-04T11:26:59.466Z"
   },
   {
    "duration": 13,
    "start_time": "2022-04-04T11:28:11.226Z"
   },
   {
    "duration": 14,
    "start_time": "2022-04-04T11:28:37.407Z"
   },
   {
    "duration": 10,
    "start_time": "2022-04-04T11:28:52.103Z"
   },
   {
    "duration": 11,
    "start_time": "2022-04-04T11:29:23.934Z"
   },
   {
    "duration": 10,
    "start_time": "2022-04-04T11:30:08.213Z"
   },
   {
    "duration": 148,
    "start_time": "2022-04-04T11:31:18.131Z"
   },
   {
    "duration": 12,
    "start_time": "2022-04-04T11:39:48.589Z"
   },
   {
    "duration": 11,
    "start_time": "2022-04-04T11:40:04.159Z"
   },
   {
    "duration": 205,
    "start_time": "2022-04-04T11:40:04.913Z"
   },
   {
    "duration": 145,
    "start_time": "2022-04-04T11:40:05.801Z"
   },
   {
    "duration": 16,
    "start_time": "2022-04-04T11:40:06.716Z"
   },
   {
    "duration": 379,
    "start_time": "2022-04-04T11:40:07.949Z"
   },
   {
    "duration": 325,
    "start_time": "2022-04-04T11:40:16.147Z"
   },
   {
    "duration": 283,
    "start_time": "2022-04-04T11:40:27.118Z"
   },
   {
    "duration": 285,
    "start_time": "2022-04-04T11:40:46.341Z"
   },
   {
    "duration": 288,
    "start_time": "2022-04-04T11:41:13.701Z"
   },
   {
    "duration": 638,
    "start_time": "2022-04-04T11:42:23.948Z"
   },
   {
    "duration": 550,
    "start_time": "2022-04-04T11:42:36.570Z"
   },
   {
    "duration": 445,
    "start_time": "2022-04-04T11:42:47.131Z"
   },
   {
    "duration": 316,
    "start_time": "2022-04-04T11:43:07.879Z"
   },
   {
    "duration": 291,
    "start_time": "2022-04-04T11:43:18.043Z"
   },
   {
    "duration": 295,
    "start_time": "2022-04-04T11:43:26.164Z"
   },
   {
    "duration": 304,
    "start_time": "2022-04-04T11:43:56.166Z"
   },
   {
    "duration": 289,
    "start_time": "2022-04-04T11:44:19.571Z"
   },
   {
    "duration": 15,
    "start_time": "2022-04-04T11:44:38.351Z"
   },
   {
    "duration": 17,
    "start_time": "2022-04-04T11:44:41.574Z"
   },
   {
    "duration": 434,
    "start_time": "2022-04-04T11:44:43.445Z"
   },
   {
    "duration": 17,
    "start_time": "2022-04-04T11:44:55.443Z"
   },
   {
    "duration": 317,
    "start_time": "2022-04-04T11:45:04.892Z"
   },
   {
    "duration": 200,
    "start_time": "2022-04-04T11:46:43.864Z"
   },
   {
    "duration": 205,
    "start_time": "2022-04-04T11:47:02.948Z"
   },
   {
    "duration": 407,
    "start_time": "2022-04-04T11:48:31.197Z"
   },
   {
    "duration": 93,
    "start_time": "2022-04-04T11:57:52.445Z"
   },
   {
    "duration": 150,
    "start_time": "2022-04-04T11:57:53.084Z"
   },
   {
    "duration": 5,
    "start_time": "2022-04-04T11:57:58.744Z"
   },
   {
    "duration": 9,
    "start_time": "2022-04-04T11:58:04.356Z"
   },
   {
    "duration": 11,
    "start_time": "2022-04-04T11:58:05.999Z"
   },
   {
    "duration": 143,
    "start_time": "2022-04-04T11:58:22.336Z"
   },
   {
    "duration": 12,
    "start_time": "2022-04-04T11:58:26.418Z"
   },
   {
    "duration": 12,
    "start_time": "2022-04-04T11:58:29.154Z"
   },
   {
    "duration": 6,
    "start_time": "2022-04-04T11:58:31.842Z"
   },
   {
    "duration": 9,
    "start_time": "2022-04-04T11:58:36.664Z"
   },
   {
    "duration": 7,
    "start_time": "2022-04-04T11:58:41.055Z"
   },
   {
    "duration": 14,
    "start_time": "2022-04-04T11:58:41.761Z"
   },
   {
    "duration": 118,
    "start_time": "2022-04-04T12:11:03.972Z"
   },
   {
    "duration": 144,
    "start_time": "2022-04-04T12:11:16.477Z"
   },
   {
    "duration": 112,
    "start_time": "2022-04-04T12:11:27.447Z"
   },
   {
    "duration": 10,
    "start_time": "2022-04-04T12:13:08.236Z"
   },
   {
    "duration": 127,
    "start_time": "2022-04-04T12:13:24.746Z"
   },
   {
    "duration": 4,
    "start_time": "2022-04-04T12:32:29.382Z"
   },
   {
    "duration": 3,
    "start_time": "2022-04-04T12:32:29.726Z"
   },
   {
    "duration": 15,
    "start_time": "2022-04-04T12:32:30.101Z"
   },
   {
    "duration": 8,
    "start_time": "2022-04-04T12:32:35.034Z"
   },
   {
    "duration": 44,
    "start_time": "2022-04-04T12:32:40.944Z"
   },
   {
    "duration": 25,
    "start_time": "2022-04-04T12:32:41.533Z"
   },
   {
    "duration": 9,
    "start_time": "2022-04-04T12:32:43.854Z"
   },
   {
    "duration": 2,
    "start_time": "2022-04-04T12:32:45.218Z"
   },
   {
    "duration": 3,
    "start_time": "2022-04-04T12:32:46.724Z"
   },
   {
    "duration": 12,
    "start_time": "2022-04-04T12:32:47.965Z"
   },
   {
    "duration": 11,
    "start_time": "2022-04-04T12:33:00.450Z"
   },
   {
    "duration": 7,
    "start_time": "2022-04-04T12:33:00.875Z"
   },
   {
    "duration": 8,
    "start_time": "2022-04-04T12:33:01.446Z"
   },
   {
    "duration": 10,
    "start_time": "2022-04-04T12:33:08.619Z"
   },
   {
    "duration": 27,
    "start_time": "2022-04-04T12:36:07.935Z"
   },
   {
    "duration": 9,
    "start_time": "2022-04-04T12:36:11.084Z"
   },
   {
    "duration": 7,
    "start_time": "2022-04-04T12:36:11.829Z"
   },
   {
    "duration": 5,
    "start_time": "2022-04-04T12:36:12.860Z"
   },
   {
    "duration": 11,
    "start_time": "2022-04-04T12:36:13.763Z"
   },
   {
    "duration": 9,
    "start_time": "2022-04-04T12:36:15.179Z"
   },
   {
    "duration": 6,
    "start_time": "2022-04-04T12:36:16.215Z"
   },
   {
    "duration": 10,
    "start_time": "2022-04-04T12:36:19.938Z"
   },
   {
    "duration": 195,
    "start_time": "2022-04-04T12:36:20.560Z"
   },
   {
    "duration": 125,
    "start_time": "2022-04-04T12:36:21.061Z"
   },
   {
    "duration": 15,
    "start_time": "2022-04-04T12:36:21.618Z"
   },
   {
    "duration": 315,
    "start_time": "2022-04-04T12:36:22.570Z"
   },
   {
    "duration": 341,
    "start_time": "2022-04-04T12:36:26.001Z"
   },
   {
    "duration": 18,
    "start_time": "2022-04-04T12:36:28.834Z"
   },
   {
    "duration": 407,
    "start_time": "2022-04-04T12:36:29.900Z"
   },
   {
    "duration": 10,
    "start_time": "2022-04-04T12:36:32.564Z"
   },
   {
    "duration": 18,
    "start_time": "2022-04-04T12:36:33.430Z"
   },
   {
    "duration": 375,
    "start_time": "2022-04-04T12:36:34.190Z"
   },
   {
    "duration": 10,
    "start_time": "2022-04-04T12:36:39.239Z"
   },
   {
    "duration": 100,
    "start_time": "2022-04-04T12:36:40.137Z"
   },
   {
    "duration": 141,
    "start_time": "2022-04-04T12:36:41.230Z"
   },
   {
    "duration": 5,
    "start_time": "2022-04-04T12:36:43.398Z"
   },
   {
    "duration": 8,
    "start_time": "2022-04-04T12:36:46.897Z"
   },
   {
    "duration": 12,
    "start_time": "2022-04-04T12:36:47.702Z"
   },
   {
    "duration": 139,
    "start_time": "2022-04-04T12:36:48.549Z"
   },
   {
    "duration": 129,
    "start_time": "2022-04-04T12:37:06.363Z"
   },
   {
    "duration": 11,
    "start_time": "2022-04-04T12:37:07.800Z"
   },
   {
    "duration": 12,
    "start_time": "2022-04-04T12:37:11.874Z"
   },
   {
    "duration": 376,
    "start_time": "2022-04-04T12:52:09.718Z"
   },
   {
    "duration": 194,
    "start_time": "2022-04-04T13:08:15.334Z"
   },
   {
    "duration": 193,
    "start_time": "2022-04-04T13:08:27.811Z"
   },
   {
    "duration": 331,
    "start_time": "2022-04-04T13:13:48.283Z"
   },
   {
    "duration": 7,
    "start_time": "2022-04-04T13:14:12.450Z"
   },
   {
    "duration": 6,
    "start_time": "2022-04-04T13:19:29.325Z"
   },
   {
    "duration": 13,
    "start_time": "2022-04-04T13:23:29.876Z"
   },
   {
    "duration": 6,
    "start_time": "2022-04-04T13:25:21.437Z"
   },
   {
    "duration": 5,
    "start_time": "2022-04-04T13:27:16.542Z"
   },
   {
    "duration": 7,
    "start_time": "2022-04-04T13:31:45.559Z"
   },
   {
    "duration": 5,
    "start_time": "2022-04-04T13:33:00.815Z"
   },
   {
    "duration": 6,
    "start_time": "2022-04-04T13:38:41.426Z"
   },
   {
    "duration": 5,
    "start_time": "2022-04-04T13:39:49.405Z"
   },
   {
    "duration": 326,
    "start_time": "2022-04-04T13:52:34.960Z"
   },
   {
    "duration": 7,
    "start_time": "2022-04-04T13:52:38.470Z"
   },
   {
    "duration": 7,
    "start_time": "2022-04-04T13:52:49.367Z"
   },
   {
    "duration": 10,
    "start_time": "2022-04-04T13:52:53.661Z"
   },
   {
    "duration": 8,
    "start_time": "2022-04-04T13:52:56.458Z"
   },
   {
    "duration": 734,
    "start_time": "2022-04-04T13:52:59.276Z"
   },
   {
    "duration": 550,
    "start_time": "2022-04-04T13:53:27.787Z"
   },
   {
    "duration": 3,
    "start_time": "2022-04-04T13:53:34.713Z"
   },
   {
    "duration": 13,
    "start_time": "2022-04-04T13:53:35.087Z"
   },
   {
    "duration": 14,
    "start_time": "2022-04-04T13:53:35.740Z"
   },
   {
    "duration": 44,
    "start_time": "2022-04-04T13:53:36.001Z"
   },
   {
    "duration": 27,
    "start_time": "2022-04-04T13:53:36.204Z"
   },
   {
    "duration": 9,
    "start_time": "2022-04-04T13:53:36.573Z"
   },
   {
    "duration": 3,
    "start_time": "2022-04-04T13:53:36.900Z"
   },
   {
    "duration": 3,
    "start_time": "2022-04-04T13:53:37.233Z"
   },
   {
    "duration": 12,
    "start_time": "2022-04-04T13:53:37.599Z"
   },
   {
    "duration": 14,
    "start_time": "2022-04-04T13:53:37.749Z"
   },
   {
    "duration": 8,
    "start_time": "2022-04-04T13:53:37.916Z"
   },
   {
    "duration": 8,
    "start_time": "2022-04-04T13:53:38.087Z"
   },
   {
    "duration": 10,
    "start_time": "2022-04-04T13:53:38.792Z"
   },
   {
    "duration": 12,
    "start_time": "2022-04-04T13:53:38.970Z"
   },
   {
    "duration": 32,
    "start_time": "2022-04-04T13:53:39.344Z"
   },
   {
    "duration": 11,
    "start_time": "2022-04-04T13:53:39.872Z"
   },
   {
    "duration": 7,
    "start_time": "2022-04-04T13:53:40.083Z"
   },
   {
    "duration": 9,
    "start_time": "2022-04-04T13:53:40.202Z"
   },
   {
    "duration": 13,
    "start_time": "2022-04-04T13:53:40.389Z"
   },
   {
    "duration": 15,
    "start_time": "2022-04-04T13:53:40.573Z"
   },
   {
    "duration": 5,
    "start_time": "2022-04-04T13:53:40.764Z"
   },
   {
    "duration": 11,
    "start_time": "2022-04-04T13:53:41.490Z"
   },
   {
    "duration": 208,
    "start_time": "2022-04-04T13:53:41.673Z"
   },
   {
    "duration": 143,
    "start_time": "2022-04-04T13:53:41.883Z"
   },
   {
    "duration": 15,
    "start_time": "2022-04-04T13:53:42.049Z"
   },
   {
    "duration": 320,
    "start_time": "2022-04-04T13:53:42.420Z"
   },
   {
    "duration": 301,
    "start_time": "2022-04-04T13:53:43.382Z"
   },
   {
    "duration": 20,
    "start_time": "2022-04-04T13:53:44.166Z"
   },
   {
    "duration": 401,
    "start_time": "2022-04-04T13:53:44.546Z"
   },
   {
    "duration": 11,
    "start_time": "2022-04-04T13:53:46.470Z"
   },
   {
    "duration": 23,
    "start_time": "2022-04-04T13:53:46.484Z"
   },
   {
    "duration": 460,
    "start_time": "2022-04-04T13:53:46.878Z"
   },
   {
    "duration": 11,
    "start_time": "2022-04-04T13:53:47.920Z"
   },
   {
    "duration": 97,
    "start_time": "2022-04-04T13:53:48.281Z"
   },
   {
    "duration": 256,
    "start_time": "2022-04-04T13:53:48.636Z"
   },
   {
    "duration": 6,
    "start_time": "2022-04-04T13:53:49.928Z"
   },
   {
    "duration": 11,
    "start_time": "2022-04-04T13:53:50.617Z"
   },
   {
    "duration": 11,
    "start_time": "2022-04-04T13:53:51.240Z"
   },
   {
    "duration": 173,
    "start_time": "2022-04-04T13:53:51.435Z"
   },
   {
    "duration": 16,
    "start_time": "2022-04-04T13:53:51.858Z"
   },
   {
    "duration": 17,
    "start_time": "2022-04-04T13:53:52.056Z"
   },
   {
    "duration": 6,
    "start_time": "2022-04-04T13:53:52.691Z"
   },
   {
    "duration": 206,
    "start_time": "2022-04-04T13:53:53.092Z"
   },
   {
    "duration": 11,
    "start_time": "2022-04-04T13:53:53.878Z"
   },
   {
    "duration": 7,
    "start_time": "2022-04-04T13:53:54.339Z"
   },
   {
    "duration": 23,
    "start_time": "2022-04-04T13:53:54.759Z"
   },
   {
    "duration": 544,
    "start_time": "2022-04-04T13:53:55.664Z"
   },
   {
    "duration": 9,
    "start_time": "2022-04-04T13:53:56.529Z"
   },
   {
    "duration": 7,
    "start_time": "2022-04-04T13:53:58.858Z"
   },
   {
    "duration": 8,
    "start_time": "2022-04-04T13:54:00.673Z"
   },
   {
    "duration": 7,
    "start_time": "2022-04-04T13:54:01.794Z"
   },
   {
    "duration": 369,
    "start_time": "2022-04-04T13:54:02.837Z"
   },
   {
    "duration": 9,
    "start_time": "2022-04-04T13:54:03.234Z"
   },
   {
    "duration": 6,
    "start_time": "2022-04-04T13:54:04.088Z"
   },
   {
    "duration": 7,
    "start_time": "2022-04-04T13:54:05.125Z"
   },
   {
    "duration": 6,
    "start_time": "2022-04-04T13:54:06.990Z"
   },
   {
    "duration": 73,
    "start_time": "2022-04-04T15:27:11.162Z"
   },
   {
    "duration": 2028,
    "start_time": "2022-04-04T15:27:21.780Z"
   },
   {
    "duration": 4,
    "start_time": "2022-04-04T15:27:23.811Z"
   },
   {
    "duration": 26,
    "start_time": "2022-04-04T15:27:23.817Z"
   },
   {
    "duration": 19,
    "start_time": "2022-04-04T15:27:23.846Z"
   },
   {
    "duration": 62,
    "start_time": "2022-04-04T15:27:23.883Z"
   },
   {
    "duration": 38,
    "start_time": "2022-04-04T15:27:23.948Z"
   },
   {
    "duration": 14,
    "start_time": "2022-04-04T15:27:23.988Z"
   },
   {
    "duration": 27,
    "start_time": "2022-04-04T15:27:24.005Z"
   },
   {
    "duration": 28,
    "start_time": "2022-04-04T15:27:24.035Z"
   },
   {
    "duration": 40,
    "start_time": "2022-04-04T15:27:24.068Z"
   },
   {
    "duration": 16,
    "start_time": "2022-04-04T15:27:24.111Z"
   },
   {
    "duration": 27,
    "start_time": "2022-04-04T15:27:24.130Z"
   },
   {
    "duration": 32,
    "start_time": "2022-04-04T15:27:24.159Z"
   },
   {
    "duration": 38,
    "start_time": "2022-04-04T15:27:24.194Z"
   },
   {
    "duration": 49,
    "start_time": "2022-04-04T15:27:24.235Z"
   },
   {
    "duration": 13,
    "start_time": "2022-04-04T15:27:24.286Z"
   },
   {
    "duration": 175,
    "start_time": "2022-04-04T15:27:24.301Z"
   },
   {
    "duration": 0,
    "start_time": "2022-04-04T15:27:24.479Z"
   },
   {
    "duration": 0,
    "start_time": "2022-04-04T15:27:24.484Z"
   },
   {
    "duration": 0,
    "start_time": "2022-04-04T15:27:24.486Z"
   },
   {
    "duration": 0,
    "start_time": "2022-04-04T15:27:24.487Z"
   },
   {
    "duration": 0,
    "start_time": "2022-04-04T15:27:24.489Z"
   },
   {
    "duration": 0,
    "start_time": "2022-04-04T15:27:24.490Z"
   },
   {
    "duration": 0,
    "start_time": "2022-04-04T15:27:24.492Z"
   },
   {
    "duration": 0,
    "start_time": "2022-04-04T15:27:24.493Z"
   },
   {
    "duration": 0,
    "start_time": "2022-04-04T15:27:24.495Z"
   },
   {
    "duration": 0,
    "start_time": "2022-04-04T15:27:24.496Z"
   },
   {
    "duration": 0,
    "start_time": "2022-04-04T15:27:24.498Z"
   },
   {
    "duration": 0,
    "start_time": "2022-04-04T15:27:24.499Z"
   },
   {
    "duration": 0,
    "start_time": "2022-04-04T15:27:24.501Z"
   },
   {
    "duration": 0,
    "start_time": "2022-04-04T15:27:24.503Z"
   },
   {
    "duration": 0,
    "start_time": "2022-04-04T15:27:24.504Z"
   },
   {
    "duration": 0,
    "start_time": "2022-04-04T15:27:24.506Z"
   },
   {
    "duration": 0,
    "start_time": "2022-04-04T15:27:24.507Z"
   },
   {
    "duration": 0,
    "start_time": "2022-04-04T15:27:24.509Z"
   },
   {
    "duration": 0,
    "start_time": "2022-04-04T15:27:24.511Z"
   },
   {
    "duration": 0,
    "start_time": "2022-04-04T15:27:24.512Z"
   },
   {
    "duration": 0,
    "start_time": "2022-04-04T15:27:24.514Z"
   },
   {
    "duration": 0,
    "start_time": "2022-04-04T15:27:24.515Z"
   },
   {
    "duration": 0,
    "start_time": "2022-04-04T15:27:24.517Z"
   },
   {
    "duration": 0,
    "start_time": "2022-04-04T15:27:24.518Z"
   },
   {
    "duration": 0,
    "start_time": "2022-04-04T15:27:24.520Z"
   },
   {
    "duration": 0,
    "start_time": "2022-04-04T15:27:24.522Z"
   },
   {
    "duration": 0,
    "start_time": "2022-04-04T15:27:24.584Z"
   },
   {
    "duration": 0,
    "start_time": "2022-04-04T15:27:24.586Z"
   },
   {
    "duration": 0,
    "start_time": "2022-04-04T15:27:24.587Z"
   },
   {
    "duration": 0,
    "start_time": "2022-04-04T15:27:24.589Z"
   },
   {
    "duration": 0,
    "start_time": "2022-04-04T15:27:24.591Z"
   },
   {
    "duration": 0,
    "start_time": "2022-04-04T15:27:24.592Z"
   },
   {
    "duration": 0,
    "start_time": "2022-04-04T15:27:24.594Z"
   },
   {
    "duration": 0,
    "start_time": "2022-04-04T15:27:24.595Z"
   },
   {
    "duration": 0,
    "start_time": "2022-04-04T15:27:24.597Z"
   },
   {
    "duration": 0,
    "start_time": "2022-04-04T15:27:24.599Z"
   },
   {
    "duration": 0,
    "start_time": "2022-04-04T15:27:24.600Z"
   },
   {
    "duration": 0,
    "start_time": "2022-04-04T15:27:24.601Z"
   },
   {
    "duration": 0,
    "start_time": "2022-04-04T15:27:24.603Z"
   },
   {
    "duration": 0,
    "start_time": "2022-04-04T15:27:24.605Z"
   },
   {
    "duration": 0,
    "start_time": "2022-04-04T15:27:24.606Z"
   },
   {
    "duration": 0,
    "start_time": "2022-04-04T15:27:24.608Z"
   },
   {
    "duration": 7,
    "start_time": "2022-04-04T15:27:53.139Z"
   },
   {
    "duration": 41,
    "start_time": "2022-04-04T15:30:36.725Z"
   },
   {
    "duration": 1641,
    "start_time": "2022-04-04T15:32:26.324Z"
   },
   {
    "duration": 4,
    "start_time": "2022-04-04T15:32:27.967Z"
   },
   {
    "duration": 37,
    "start_time": "2022-04-04T15:32:27.973Z"
   },
   {
    "duration": 24,
    "start_time": "2022-04-04T15:32:28.014Z"
   },
   {
    "duration": 81,
    "start_time": "2022-04-04T15:32:28.040Z"
   },
   {
    "duration": 45,
    "start_time": "2022-04-04T15:32:28.123Z"
   },
   {
    "duration": 17,
    "start_time": "2022-04-04T15:32:28.183Z"
   },
   {
    "duration": 9,
    "start_time": "2022-04-04T15:32:28.202Z"
   },
   {
    "duration": 9,
    "start_time": "2022-04-04T15:32:28.214Z"
   },
   {
    "duration": 32,
    "start_time": "2022-04-04T15:32:28.229Z"
   },
   {
    "duration": 38,
    "start_time": "2022-04-04T15:32:28.264Z"
   },
   {
    "duration": 13,
    "start_time": "2022-04-04T15:32:28.304Z"
   },
   {
    "duration": 20,
    "start_time": "2022-04-04T15:32:28.319Z"
   },
   {
    "duration": 44,
    "start_time": "2022-04-04T15:32:28.341Z"
   },
   {
    "duration": 19,
    "start_time": "2022-04-04T15:32:28.387Z"
   },
   {
    "duration": 43,
    "start_time": "2022-04-04T15:32:28.409Z"
   },
   {
    "duration": 12,
    "start_time": "2022-04-04T15:32:28.484Z"
   },
   {
    "duration": 14,
    "start_time": "2022-04-04T15:32:28.498Z"
   },
   {
    "duration": 17,
    "start_time": "2022-04-04T15:32:28.514Z"
   },
   {
    "duration": 17,
    "start_time": "2022-04-04T15:32:28.533Z"
   },
   {
    "duration": 44,
    "start_time": "2022-04-04T15:32:28.552Z"
   },
   {
    "duration": 18,
    "start_time": "2022-04-04T15:32:28.598Z"
   },
   {
    "duration": 18,
    "start_time": "2022-04-04T15:32:28.618Z"
   },
   {
    "duration": 349,
    "start_time": "2022-04-04T15:32:28.639Z"
   },
   {
    "duration": 230,
    "start_time": "2022-04-04T15:32:28.991Z"
   },
   {
    "duration": 22,
    "start_time": "2022-04-04T15:32:29.224Z"
   },
   {
    "duration": 670,
    "start_time": "2022-04-04T15:32:29.248Z"
   },
   {
    "duration": 540,
    "start_time": "2022-04-04T15:32:29.924Z"
   },
   {
    "duration": 36,
    "start_time": "2022-04-04T15:32:30.468Z"
   },
   {
    "duration": 680,
    "start_time": "2022-04-04T15:32:30.507Z"
   },
   {
    "duration": 19,
    "start_time": "2022-04-04T15:32:31.190Z"
   },
   {
    "duration": 50,
    "start_time": "2022-04-04T15:32:31.212Z"
   },
   {
    "duration": 510,
    "start_time": "2022-04-04T15:32:31.264Z"
   },
   {
    "duration": 17,
    "start_time": "2022-04-04T15:32:31.776Z"
   },
   {
    "duration": 188,
    "start_time": "2022-04-04T15:32:31.795Z"
   },
   {
    "duration": 286,
    "start_time": "2022-04-04T15:32:31.986Z"
   },
   {
    "duration": 15,
    "start_time": "2022-04-04T15:32:32.274Z"
   },
   {
    "duration": 50,
    "start_time": "2022-04-04T15:32:32.292Z"
   },
   {
    "duration": 32,
    "start_time": "2022-04-04T15:32:32.345Z"
   },
   {
    "duration": 246,
    "start_time": "2022-04-04T15:32:32.379Z"
   },
   {
    "duration": 16,
    "start_time": "2022-04-04T15:32:32.628Z"
   },
   {
    "duration": 19,
    "start_time": "2022-04-04T15:32:32.646Z"
   },
   {
    "duration": 7,
    "start_time": "2022-04-04T15:32:32.685Z"
   },
   {
    "duration": 223,
    "start_time": "2022-04-04T15:32:32.695Z"
   },
   {
    "duration": 11,
    "start_time": "2022-04-04T15:32:32.920Z"
   },
   {
    "duration": 21,
    "start_time": "2022-04-04T15:32:32.933Z"
   },
   {
    "duration": 42,
    "start_time": "2022-04-04T15:32:32.956Z"
   },
   {
    "duration": 783,
    "start_time": "2022-04-04T15:32:33.000Z"
   },
   {
    "duration": 0,
    "start_time": "2022-04-04T15:32:33.786Z"
   },
   {
    "duration": 0,
    "start_time": "2022-04-04T15:32:33.787Z"
   },
   {
    "duration": 0,
    "start_time": "2022-04-04T15:32:33.789Z"
   },
   {
    "duration": 0,
    "start_time": "2022-04-04T15:32:33.790Z"
   },
   {
    "duration": 0,
    "start_time": "2022-04-04T15:32:33.792Z"
   },
   {
    "duration": 0,
    "start_time": "2022-04-04T15:32:33.793Z"
   },
   {
    "duration": 1,
    "start_time": "2022-04-04T15:32:33.794Z"
   },
   {
    "duration": 0,
    "start_time": "2022-04-04T15:32:33.796Z"
   },
   {
    "duration": 0,
    "start_time": "2022-04-04T15:32:33.797Z"
   },
   {
    "duration": 1593,
    "start_time": "2022-04-04T15:33:52.232Z"
   },
   {
    "duration": 3,
    "start_time": "2022-04-04T15:33:53.828Z"
   },
   {
    "duration": 25,
    "start_time": "2022-04-04T15:33:53.834Z"
   },
   {
    "duration": 24,
    "start_time": "2022-04-04T15:33:53.862Z"
   },
   {
    "duration": 59,
    "start_time": "2022-04-04T15:33:53.888Z"
   },
   {
    "duration": 38,
    "start_time": "2022-04-04T15:33:53.950Z"
   },
   {
    "duration": 12,
    "start_time": "2022-04-04T15:33:53.990Z"
   },
   {
    "duration": 7,
    "start_time": "2022-04-04T15:33:54.004Z"
   },
   {
    "duration": 25,
    "start_time": "2022-04-04T15:33:54.013Z"
   },
   {
    "duration": 19,
    "start_time": "2022-04-04T15:33:54.042Z"
   },
   {
    "duration": 17,
    "start_time": "2022-04-04T15:33:54.084Z"
   },
   {
    "duration": 11,
    "start_time": "2022-04-04T15:33:54.103Z"
   },
   {
    "duration": 10,
    "start_time": "2022-04-04T15:33:54.116Z"
   },
   {
    "duration": 15,
    "start_time": "2022-04-04T15:33:54.129Z"
   },
   {
    "duration": 50,
    "start_time": "2022-04-04T15:33:54.146Z"
   },
   {
    "duration": 45,
    "start_time": "2022-04-04T15:33:54.198Z"
   },
   {
    "duration": 48,
    "start_time": "2022-04-04T15:33:54.246Z"
   },
   {
    "duration": 11,
    "start_time": "2022-04-04T15:33:54.296Z"
   },
   {
    "duration": 11,
    "start_time": "2022-04-04T15:33:54.310Z"
   },
   {
    "duration": 19,
    "start_time": "2022-04-04T15:33:54.324Z"
   },
   {
    "duration": 39,
    "start_time": "2022-04-04T15:33:54.346Z"
   },
   {
    "duration": 7,
    "start_time": "2022-04-04T15:33:54.387Z"
   },
   {
    "duration": 21,
    "start_time": "2022-04-04T15:33:54.397Z"
   },
   {
    "duration": 379,
    "start_time": "2022-04-04T15:33:54.420Z"
   },
   {
    "duration": 238,
    "start_time": "2022-04-04T15:33:54.802Z"
   },
   {
    "duration": 21,
    "start_time": "2022-04-04T15:33:55.042Z"
   },
   {
    "duration": 701,
    "start_time": "2022-04-04T15:33:55.085Z"
   },
   {
    "duration": 495,
    "start_time": "2022-04-04T15:33:55.792Z"
   },
   {
    "duration": 25,
    "start_time": "2022-04-04T15:33:56.289Z"
   },
   {
    "duration": 663,
    "start_time": "2022-04-04T15:33:56.316Z"
   },
   {
    "duration": 13,
    "start_time": "2022-04-04T15:33:56.983Z"
   },
   {
    "duration": 45,
    "start_time": "2022-04-04T15:33:56.998Z"
   },
   {
    "duration": 539,
    "start_time": "2022-04-04T15:33:57.045Z"
   },
   {
    "duration": 13,
    "start_time": "2022-04-04T15:33:57.587Z"
   },
   {
    "duration": 206,
    "start_time": "2022-04-04T15:33:57.603Z"
   },
   {
    "duration": 247,
    "start_time": "2022-04-04T15:33:57.812Z"
   },
   {
    "duration": 7,
    "start_time": "2022-04-04T15:33:58.061Z"
   },
   {
    "duration": 23,
    "start_time": "2022-04-04T15:33:58.070Z"
   },
   {
    "duration": 18,
    "start_time": "2022-04-04T15:33:58.096Z"
   },
   {
    "duration": 247,
    "start_time": "2022-04-04T15:33:58.116Z"
   },
   {
    "duration": 26,
    "start_time": "2022-04-04T15:33:58.365Z"
   },
   {
    "duration": 17,
    "start_time": "2022-04-04T15:33:58.393Z"
   },
   {
    "duration": 10,
    "start_time": "2022-04-04T15:33:58.412Z"
   },
   {
    "duration": 258,
    "start_time": "2022-04-04T15:33:58.424Z"
   },
   {
    "duration": 10,
    "start_time": "2022-04-04T15:33:58.684Z"
   },
   {
    "duration": 14,
    "start_time": "2022-04-04T15:33:58.697Z"
   },
   {
    "duration": 28,
    "start_time": "2022-04-04T15:33:58.713Z"
   },
   {
    "duration": 812,
    "start_time": "2022-04-04T15:33:58.743Z"
   },
   {
    "duration": 0,
    "start_time": "2022-04-04T15:33:59.557Z"
   },
   {
    "duration": 0,
    "start_time": "2022-04-04T15:33:59.558Z"
   },
   {
    "duration": 0,
    "start_time": "2022-04-04T15:33:59.560Z"
   },
   {
    "duration": 0,
    "start_time": "2022-04-04T15:33:59.561Z"
   },
   {
    "duration": 0,
    "start_time": "2022-04-04T15:33:59.563Z"
   },
   {
    "duration": 0,
    "start_time": "2022-04-04T15:33:59.564Z"
   },
   {
    "duration": 0,
    "start_time": "2022-04-04T15:33:59.585Z"
   },
   {
    "duration": 0,
    "start_time": "2022-04-04T15:33:59.586Z"
   },
   {
    "duration": 0,
    "start_time": "2022-04-04T15:33:59.587Z"
   },
   {
    "duration": 579,
    "start_time": "2022-04-04T15:39:44.342Z"
   },
   {
    "duration": 535,
    "start_time": "2022-04-04T15:39:50.878Z"
   },
   {
    "duration": 9,
    "start_time": "2022-04-04T15:39:53.562Z"
   },
   {
    "duration": 8,
    "start_time": "2022-04-04T15:39:58.090Z"
   },
   {
    "duration": 24,
    "start_time": "2022-04-04T15:40:06.084Z"
   },
   {
    "duration": 289,
    "start_time": "2022-04-04T15:45:08.497Z"
   },
   {
    "duration": 2074,
    "start_time": "2022-04-04T15:46:03.957Z"
   },
   {
    "duration": 15,
    "start_time": "2022-04-04T15:46:41.457Z"
   },
   {
    "duration": 254,
    "start_time": "2022-04-04T15:46:46.731Z"
   },
   {
    "duration": 271,
    "start_time": "2022-04-04T15:46:51.976Z"
   },
   {
    "duration": 13,
    "start_time": "2022-04-04T15:46:56.149Z"
   },
   {
    "duration": 7,
    "start_time": "2022-04-04T15:47:03.462Z"
   },
   {
    "duration": 7,
    "start_time": "2022-04-04T15:47:25.082Z"
   },
   {
    "duration": 6,
    "start_time": "2022-04-04T15:47:29.565Z"
   },
   {
    "duration": 7,
    "start_time": "2022-04-04T15:49:19.937Z"
   },
   {
    "duration": 1510,
    "start_time": "2022-04-04T15:52:56.842Z"
   },
   {
    "duration": 4,
    "start_time": "2022-04-04T15:52:58.355Z"
   },
   {
    "duration": 25,
    "start_time": "2022-04-04T15:52:58.362Z"
   },
   {
    "duration": 18,
    "start_time": "2022-04-04T15:52:58.389Z"
   },
   {
    "duration": 58,
    "start_time": "2022-04-04T15:52:58.412Z"
   },
   {
    "duration": 31,
    "start_time": "2022-04-04T15:52:58.484Z"
   },
   {
    "duration": 12,
    "start_time": "2022-04-04T15:52:58.517Z"
   },
   {
    "duration": 9,
    "start_time": "2022-04-04T15:52:58.531Z"
   },
   {
    "duration": 5,
    "start_time": "2022-04-04T15:52:58.542Z"
   },
   {
    "duration": 46,
    "start_time": "2022-04-04T15:52:58.550Z"
   },
   {
    "duration": 18,
    "start_time": "2022-04-04T15:52:58.599Z"
   },
   {
    "duration": 10,
    "start_time": "2022-04-04T15:52:58.620Z"
   },
   {
    "duration": 11,
    "start_time": "2022-04-04T15:52:58.632Z"
   },
   {
    "duration": 48,
    "start_time": "2022-04-04T15:52:58.649Z"
   },
   {
    "duration": 20,
    "start_time": "2022-04-04T15:52:58.699Z"
   },
   {
    "duration": 67,
    "start_time": "2022-04-04T15:52:58.721Z"
   },
   {
    "duration": 12,
    "start_time": "2022-04-04T15:52:58.791Z"
   },
   {
    "duration": 12,
    "start_time": "2022-04-04T15:52:58.805Z"
   },
   {
    "duration": 16,
    "start_time": "2022-04-04T15:52:58.819Z"
   },
   {
    "duration": 15,
    "start_time": "2022-04-04T15:52:58.837Z"
   },
   {
    "duration": 14,
    "start_time": "2022-04-04T15:52:58.884Z"
   },
   {
    "duration": 7,
    "start_time": "2022-04-04T15:52:58.900Z"
   },
   {
    "duration": 14,
    "start_time": "2022-04-04T15:52:58.910Z"
   },
   {
    "duration": 359,
    "start_time": "2022-04-04T15:52:58.926Z"
   },
   {
    "duration": 233,
    "start_time": "2022-04-04T15:52:59.287Z"
   },
   {
    "duration": 21,
    "start_time": "2022-04-04T15:52:59.522Z"
   },
   {
    "duration": 653,
    "start_time": "2022-04-04T15:52:59.545Z"
   },
   {
    "duration": 478,
    "start_time": "2022-04-04T15:53:00.201Z"
   },
   {
    "duration": 25,
    "start_time": "2022-04-04T15:53:00.684Z"
   },
   {
    "duration": 554,
    "start_time": "2022-04-04T15:53:00.711Z"
   },
   {
    "duration": 18,
    "start_time": "2022-04-04T15:53:01.268Z"
   },
   {
    "duration": 30,
    "start_time": "2022-04-04T15:53:01.288Z"
   },
   {
    "duration": 508,
    "start_time": "2022-04-04T15:53:01.320Z"
   },
   {
    "duration": 13,
    "start_time": "2022-04-04T15:53:01.830Z"
   },
   {
    "duration": 176,
    "start_time": "2022-04-04T15:53:01.845Z"
   },
   {
    "duration": 235,
    "start_time": "2022-04-04T15:53:02.023Z"
   },
   {
    "duration": 6,
    "start_time": "2022-04-04T15:53:02.261Z"
   },
   {
    "duration": 11,
    "start_time": "2022-04-04T15:53:02.284Z"
   },
   {
    "duration": 24,
    "start_time": "2022-04-04T15:53:02.298Z"
   },
   {
    "duration": 248,
    "start_time": "2022-04-04T15:53:02.325Z"
   },
   {
    "duration": 16,
    "start_time": "2022-04-04T15:53:02.583Z"
   },
   {
    "duration": 18,
    "start_time": "2022-04-04T15:53:02.602Z"
   },
   {
    "duration": 30,
    "start_time": "2022-04-04T15:53:02.622Z"
   },
   {
    "duration": 219,
    "start_time": "2022-04-04T15:53:02.654Z"
   },
   {
    "duration": 17,
    "start_time": "2022-04-04T15:53:02.876Z"
   },
   {
    "duration": 9,
    "start_time": "2022-04-04T15:53:02.896Z"
   },
   {
    "duration": 24,
    "start_time": "2022-04-04T15:53:02.908Z"
   },
   {
    "duration": 53,
    "start_time": "2022-04-04T15:53:02.935Z"
   },
   {
    "duration": 1033,
    "start_time": "2022-04-04T15:53:02.991Z"
   },
   {
    "duration": 0,
    "start_time": "2022-04-04T15:53:04.027Z"
   },
   {
    "duration": 0,
    "start_time": "2022-04-04T15:53:04.029Z"
   },
   {
    "duration": 0,
    "start_time": "2022-04-04T15:53:04.032Z"
   },
   {
    "duration": 0,
    "start_time": "2022-04-04T15:53:04.035Z"
   },
   {
    "duration": 1,
    "start_time": "2022-04-04T15:53:04.036Z"
   },
   {
    "duration": 0,
    "start_time": "2022-04-04T15:53:04.039Z"
   },
   {
    "duration": 0,
    "start_time": "2022-04-04T15:53:04.040Z"
   },
   {
    "duration": 0,
    "start_time": "2022-04-04T15:53:04.043Z"
   },
   {
    "duration": 0,
    "start_time": "2022-04-04T15:53:04.045Z"
   },
   {
    "duration": 47,
    "start_time": "2022-04-04T21:11:02.348Z"
   },
   {
    "duration": 1305,
    "start_time": "2022-04-04T21:11:09.463Z"
   },
   {
    "duration": 2,
    "start_time": "2022-04-04T21:11:10.771Z"
   },
   {
    "duration": 58,
    "start_time": "2022-04-04T21:11:10.774Z"
   },
   {
    "duration": 12,
    "start_time": "2022-04-04T21:11:10.834Z"
   },
   {
    "duration": 128,
    "start_time": "2022-04-04T21:11:10.847Z"
   },
   {
    "duration": 61,
    "start_time": "2022-04-04T21:11:10.977Z"
   },
   {
    "duration": 8,
    "start_time": "2022-04-04T21:11:11.313Z"
   },
   {
    "duration": 2,
    "start_time": "2022-04-04T21:11:11.631Z"
   },
   {
    "duration": 3,
    "start_time": "2022-04-04T21:11:12.054Z"
   },
   {
    "duration": 12,
    "start_time": "2022-04-04T21:11:12.541Z"
   },
   {
    "duration": 10,
    "start_time": "2022-04-04T21:11:12.687Z"
   },
   {
    "duration": 6,
    "start_time": "2022-04-04T21:11:12.990Z"
   },
   {
    "duration": 7,
    "start_time": "2022-04-04T21:11:13.155Z"
   },
   {
    "duration": 7,
    "start_time": "2022-04-04T21:11:13.936Z"
   },
   {
    "duration": 9,
    "start_time": "2022-04-04T21:11:14.157Z"
   },
   {
    "duration": 22,
    "start_time": "2022-04-04T21:11:14.797Z"
   },
   {
    "duration": 7,
    "start_time": "2022-04-04T21:11:15.914Z"
   },
   {
    "duration": 5,
    "start_time": "2022-04-04T21:11:16.148Z"
   },
   {
    "duration": 6,
    "start_time": "2022-04-04T21:11:16.355Z"
   },
   {
    "duration": 8,
    "start_time": "2022-04-04T21:11:16.574Z"
   },
   {
    "duration": 8,
    "start_time": "2022-04-04T21:11:16.790Z"
   },
   {
    "duration": 4,
    "start_time": "2022-04-04T21:11:17.011Z"
   },
   {
    "duration": 9,
    "start_time": "2022-04-04T21:11:17.882Z"
   },
   {
    "duration": 167,
    "start_time": "2022-04-04T21:11:18.129Z"
   },
   {
    "duration": 115,
    "start_time": "2022-04-04T21:11:18.332Z"
   },
   {
    "duration": 12,
    "start_time": "2022-04-04T21:11:18.564Z"
   },
   {
    "duration": 331,
    "start_time": "2022-04-04T21:11:18.993Z"
   },
   {
    "duration": 250,
    "start_time": "2022-04-04T21:11:20.389Z"
   },
   {
    "duration": 14,
    "start_time": "2022-04-04T21:11:21.530Z"
   },
   {
    "duration": 424,
    "start_time": "2022-04-04T21:11:21.964Z"
   },
   {
    "duration": 9,
    "start_time": "2022-04-04T21:11:23.089Z"
   },
   {
    "duration": 13,
    "start_time": "2022-04-04T21:11:23.522Z"
   },
   {
    "duration": 259,
    "start_time": "2022-04-04T21:11:23.748Z"
   },
   {
    "duration": 8,
    "start_time": "2022-04-04T21:11:25.746Z"
   },
   {
    "duration": 98,
    "start_time": "2022-04-04T21:11:26.156Z"
   },
   {
    "duration": 113,
    "start_time": "2022-04-04T21:11:26.510Z"
   },
   {
    "duration": 5,
    "start_time": "2022-04-04T21:11:27.686Z"
   },
   {
    "duration": 8,
    "start_time": "2022-04-04T21:11:28.493Z"
   },
   {
    "duration": 9,
    "start_time": "2022-04-04T21:11:28.969Z"
   },
   {
    "duration": 112,
    "start_time": "2022-04-04T21:11:29.192Z"
   },
   {
    "duration": 10,
    "start_time": "2022-04-04T21:11:29.815Z"
   },
   {
    "duration": 9,
    "start_time": "2022-04-04T21:11:30.061Z"
   },
   {
    "duration": 5,
    "start_time": "2022-04-04T21:11:30.886Z"
   },
   {
    "duration": 110,
    "start_time": "2022-04-04T21:11:31.129Z"
   },
   {
    "duration": 6,
    "start_time": "2022-04-04T21:11:32.864Z"
   },
   {
    "duration": 5,
    "start_time": "2022-04-04T21:11:33.253Z"
   },
   {
    "duration": 12,
    "start_time": "2022-04-04T21:11:33.691Z"
   },
   {
    "duration": 10,
    "start_time": "2022-04-04T21:11:34.597Z"
   },
   {
    "duration": 387,
    "start_time": "2022-04-04T21:11:36.119Z"
   },
   {
    "duration": 273,
    "start_time": "2022-04-04T21:12:12.452Z"
   },
   {
    "duration": 5,
    "start_time": "2022-04-04T21:12:16.849Z"
   },
   {
    "duration": 5,
    "start_time": "2022-04-04T21:12:20.198Z"
   },
   {
    "duration": 7,
    "start_time": "2022-04-04T21:12:21.627Z"
   },
   {
    "duration": 5,
    "start_time": "2022-04-04T21:12:22.487Z"
   },
   {
    "duration": 278,
    "start_time": "2022-04-04T21:12:23.322Z"
   },
   {
    "duration": 6,
    "start_time": "2022-04-04T21:12:23.732Z"
   },
   {
    "duration": 5,
    "start_time": "2022-04-04T21:12:24.606Z"
   },
   {
    "duration": 6,
    "start_time": "2022-04-04T21:12:25.682Z"
   },
   {
    "duration": 4,
    "start_time": "2022-04-04T21:12:26.514Z"
   },
   {
    "duration": 6,
    "start_time": "2022-04-04T21:15:35.691Z"
   },
   {
    "duration": 4,
    "start_time": "2022-04-04T21:15:38.241Z"
   },
   {
    "duration": 5,
    "start_time": "2022-04-04T21:15:39.219Z"
   },
   {
    "duration": 4,
    "start_time": "2022-04-04T21:15:40.195Z"
   },
   {
    "duration": 280,
    "start_time": "2022-04-04T21:15:41.001Z"
   },
   {
    "duration": 6,
    "start_time": "2022-04-04T21:15:41.383Z"
   },
   {
    "duration": 5,
    "start_time": "2022-04-04T21:15:42.188Z"
   },
   {
    "duration": 6,
    "start_time": "2022-04-04T21:15:44.432Z"
   },
   {
    "duration": 5,
    "start_time": "2022-04-04T21:15:45.814Z"
   },
   {
    "duration": 1425,
    "start_time": "2022-04-06T07:27:49.267Z"
   },
   {
    "duration": 2,
    "start_time": "2022-04-06T07:27:50.695Z"
   },
   {
    "duration": 31,
    "start_time": "2022-04-06T07:27:50.698Z"
   },
   {
    "duration": 14,
    "start_time": "2022-04-06T07:27:50.901Z"
   },
   {
    "duration": 44,
    "start_time": "2022-04-06T07:27:51.088Z"
   },
   {
    "duration": 26,
    "start_time": "2022-04-06T07:27:51.287Z"
   },
   {
    "duration": 9,
    "start_time": "2022-04-06T07:27:51.627Z"
   },
   {
    "duration": 3,
    "start_time": "2022-04-06T07:27:52.001Z"
   },
   {
    "duration": 5,
    "start_time": "2022-04-06T07:27:52.360Z"
   },
   {
    "duration": 15,
    "start_time": "2022-04-06T07:27:52.720Z"
   },
   {
    "duration": 13,
    "start_time": "2022-04-06T07:27:52.905Z"
   },
   {
    "duration": 6,
    "start_time": "2022-04-06T07:27:53.093Z"
   },
   {
    "duration": 7,
    "start_time": "2022-04-06T07:27:53.291Z"
   },
   {
    "duration": 10,
    "start_time": "2022-04-06T07:27:54.048Z"
   },
   {
    "duration": 11,
    "start_time": "2022-04-06T07:27:54.245Z"
   },
   {
    "duration": 28,
    "start_time": "2022-04-06T07:27:54.837Z"
   },
   {
    "duration": 8,
    "start_time": "2022-04-06T07:27:55.630Z"
   },
   {
    "duration": 5,
    "start_time": "2022-04-06T07:27:55.827Z"
   },
   {
    "duration": 6,
    "start_time": "2022-04-06T07:27:56.031Z"
   },
   {
    "duration": 9,
    "start_time": "2022-04-06T07:27:56.234Z"
   },
   {
    "duration": 10,
    "start_time": "2022-04-06T07:27:56.442Z"
   },
   {
    "duration": 5,
    "start_time": "2022-04-06T07:27:56.656Z"
   },
   {
    "duration": 11,
    "start_time": "2022-04-06T07:27:57.703Z"
   },
   {
    "duration": 202,
    "start_time": "2022-04-06T07:27:57.934Z"
   },
   {
    "duration": 141,
    "start_time": "2022-04-06T07:27:58.138Z"
   },
   {
    "duration": 17,
    "start_time": "2022-04-06T07:27:58.324Z"
   },
   {
    "duration": 401,
    "start_time": "2022-04-06T07:27:58.745Z"
   },
   {
    "duration": 290,
    "start_time": "2022-04-06T07:28:00.336Z"
   },
   {
    "duration": 20,
    "start_time": "2022-04-06T07:28:02.666Z"
   },
   {
    "duration": 424,
    "start_time": "2022-04-06T07:28:03.545Z"
   },
   {
    "duration": 10,
    "start_time": "2022-04-06T07:28:05.664Z"
   },
   {
    "duration": 17,
    "start_time": "2022-04-06T07:28:06.921Z"
   },
   {
    "duration": 301,
    "start_time": "2022-04-06T07:28:07.635Z"
   },
   {
    "duration": 10,
    "start_time": "2022-04-06T07:28:12.967Z"
   },
   {
    "duration": 94,
    "start_time": "2022-04-06T07:28:13.262Z"
   },
   {
    "duration": 137,
    "start_time": "2022-04-06T07:28:13.534Z"
   },
   {
    "duration": 7,
    "start_time": "2022-04-06T07:28:14.857Z"
   },
   {
    "duration": 8,
    "start_time": "2022-04-06T07:28:16.193Z"
   },
   {
    "duration": 11,
    "start_time": "2022-04-06T07:28:18.148Z"
   },
   {
    "duration": 129,
    "start_time": "2022-04-06T07:28:18.845Z"
   },
   {
    "duration": 12,
    "start_time": "2022-04-06T07:28:20.053Z"
   },
   {
    "duration": 12,
    "start_time": "2022-04-06T07:28:20.641Z"
   },
   {
    "duration": 6,
    "start_time": "2022-04-06T07:28:24.228Z"
   },
   {
    "duration": 124,
    "start_time": "2022-04-06T07:28:24.839Z"
   },
   {
    "duration": 8,
    "start_time": "2022-04-06T07:28:27.462Z"
   },
   {
    "duration": 6,
    "start_time": "2022-04-06T07:28:27.972Z"
   },
   {
    "duration": 16,
    "start_time": "2022-04-06T07:28:28.498Z"
   },
   {
    "duration": 111,
    "start_time": "2022-04-06T07:28:31.256Z"
   },
   {
    "duration": 121,
    "start_time": "2022-04-06T07:29:54.764Z"
   },
   {
    "duration": 7,
    "start_time": "2022-04-06T07:29:56.774Z"
   },
   {
    "duration": 5,
    "start_time": "2022-04-06T07:34:55.233Z"
   },
   {
    "duration": 7,
    "start_time": "2022-04-06T07:34:59.197Z"
   },
   {
    "duration": 8,
    "start_time": "2022-04-06T07:36:10.522Z"
   },
   {
    "duration": 212,
    "start_time": "2022-04-06T07:39:13.757Z"
   },
   {
    "duration": 115,
    "start_time": "2022-04-06T07:39:57.031Z"
   },
   {
    "duration": 49,
    "start_time": "2022-04-06T10:58:42.693Z"
   },
   {
    "duration": 1326,
    "start_time": "2022-04-06T10:58:54.124Z"
   },
   {
    "duration": 2,
    "start_time": "2022-04-06T10:58:55.452Z"
   },
   {
    "duration": 16,
    "start_time": "2022-04-06T10:58:55.456Z"
   },
   {
    "duration": 11,
    "start_time": "2022-04-06T10:58:55.474Z"
   },
   {
    "duration": 49,
    "start_time": "2022-04-06T10:58:55.487Z"
   },
   {
    "duration": 24,
    "start_time": "2022-04-06T10:58:55.538Z"
   },
   {
    "duration": 8,
    "start_time": "2022-04-06T10:58:55.823Z"
   },
   {
    "duration": 3,
    "start_time": "2022-04-06T10:58:56.408Z"
   },
   {
    "duration": 2,
    "start_time": "2022-04-06T10:58:56.796Z"
   },
   {
    "duration": 11,
    "start_time": "2022-04-06T10:58:57.204Z"
   },
   {
    "duration": 12,
    "start_time": "2022-04-06T10:58:57.403Z"
   },
   {
    "duration": 7,
    "start_time": "2022-04-06T10:58:57.611Z"
   },
   {
    "duration": 7,
    "start_time": "2022-04-06T10:58:57.815Z"
   },
   {
    "duration": 9,
    "start_time": "2022-04-06T10:58:58.667Z"
   },
   {
    "duration": 12,
    "start_time": "2022-04-06T10:58:58.876Z"
   },
   {
    "duration": 28,
    "start_time": "2022-04-06T10:58:59.507Z"
   },
   {
    "duration": 9,
    "start_time": "2022-04-06T10:59:00.356Z"
   },
   {
    "duration": 6,
    "start_time": "2022-04-06T10:59:00.572Z"
   },
   {
    "duration": 5,
    "start_time": "2022-04-06T10:59:00.772Z"
   },
   {
    "duration": 9,
    "start_time": "2022-04-06T10:59:00.976Z"
   },
   {
    "duration": 12,
    "start_time": "2022-04-06T10:59:01.201Z"
   },
   {
    "duration": 5,
    "start_time": "2022-04-06T10:59:01.401Z"
   },
   {
    "duration": 11,
    "start_time": "2022-04-06T10:59:02.289Z"
   },
   {
    "duration": 195,
    "start_time": "2022-04-06T10:59:02.518Z"
   },
   {
    "duration": 125,
    "start_time": "2022-04-06T10:59:02.729Z"
   },
   {
    "duration": 14,
    "start_time": "2022-04-06T10:59:02.937Z"
   },
   {
    "duration": 381,
    "start_time": "2022-04-06T10:59:03.397Z"
   },
   {
    "duration": 295,
    "start_time": "2022-04-06T10:59:04.643Z"
   },
   {
    "duration": 18,
    "start_time": "2022-04-06T10:59:05.705Z"
   },
   {
    "duration": 467,
    "start_time": "2022-04-06T10:59:06.111Z"
   },
   {
    "duration": 10,
    "start_time": "2022-04-06T10:59:07.556Z"
   },
   {
    "duration": 17,
    "start_time": "2022-04-06T10:59:08.237Z"
   },
   {
    "duration": 298,
    "start_time": "2022-04-06T10:59:08.674Z"
   },
   {
    "duration": 10,
    "start_time": "2022-04-06T10:59:12.315Z"
   },
   {
    "duration": 123,
    "start_time": "2022-04-06T10:59:12.994Z"
   },
   {
    "duration": 140,
    "start_time": "2022-04-06T10:59:13.758Z"
   },
   {
    "duration": 6,
    "start_time": "2022-04-06T10:59:15.521Z"
   },
   {
    "duration": 8,
    "start_time": "2022-04-06T10:59:16.742Z"
   },
   {
    "duration": 10,
    "start_time": "2022-04-06T10:59:17.852Z"
   },
   {
    "duration": 138,
    "start_time": "2022-04-06T10:59:18.571Z"
   },
   {
    "duration": 11,
    "start_time": "2022-04-06T10:59:19.979Z"
   },
   {
    "duration": 11,
    "start_time": "2022-04-06T10:59:20.896Z"
   },
   {
    "duration": 5,
    "start_time": "2022-04-06T10:59:23.168Z"
   },
   {
    "duration": 138,
    "start_time": "2022-04-06T10:59:24.156Z"
   },
   {
    "duration": 7,
    "start_time": "2022-04-06T10:59:25.829Z"
   },
   {
    "duration": 6,
    "start_time": "2022-04-06T10:59:26.023Z"
   },
   {
    "duration": 14,
    "start_time": "2022-04-06T10:59:26.230Z"
   },
   {
    "duration": 121,
    "start_time": "2022-04-06T10:59:26.775Z"
   },
   {
    "duration": 5,
    "start_time": "2022-04-06T10:59:27.057Z"
   },
   {
    "duration": 5,
    "start_time": "2022-04-06T10:59:27.330Z"
   },
   {
    "duration": 25,
    "start_time": "2022-04-06T11:02:01.723Z"
   },
   {
    "duration": 4,
    "start_time": "2022-04-06T11:04:16.780Z"
   },
   {
    "duration": 5,
    "start_time": "2022-04-06T11:08:07.466Z"
   },
   {
    "duration": 6,
    "start_time": "2022-04-06T11:08:44.701Z"
   },
   {
    "duration": 5,
    "start_time": "2022-04-06T11:09:18.320Z"
   },
   {
    "duration": 200,
    "start_time": "2022-04-06T11:15:11.371Z"
   },
   {
    "duration": 6,
    "start_time": "2022-04-06T11:15:12.236Z"
   },
   {
    "duration": 6,
    "start_time": "2022-04-06T11:15:12.962Z"
   },
   {
    "duration": 106,
    "start_time": "2022-04-06T11:15:34.934Z"
   },
   {
    "duration": 6,
    "start_time": "2022-04-06T11:15:35.565Z"
   },
   {
    "duration": 5,
    "start_time": "2022-04-06T11:15:36.364Z"
   },
   {
    "duration": 22,
    "start_time": "2022-04-06T11:15:39.579Z"
   },
   {
    "duration": 4,
    "start_time": "2022-04-06T11:16:11.482Z"
   },
   {
    "duration": 5,
    "start_time": "2022-04-06T11:16:21.773Z"
   },
   {
    "duration": 6,
    "start_time": "2022-04-06T11:16:23.126Z"
   },
   {
    "duration": 5,
    "start_time": "2022-04-06T11:16:36.852Z"
   },
   {
    "duration": 108,
    "start_time": "2022-04-06T11:17:13.753Z"
   },
   {
    "duration": 23,
    "start_time": "2022-04-06T11:17:45.359Z"
   },
   {
    "duration": 5,
    "start_time": "2022-04-06T11:18:35.808Z"
   },
   {
    "duration": 5,
    "start_time": "2022-04-06T11:19:57.829Z"
   },
   {
    "duration": 6,
    "start_time": "2022-04-06T11:20:20.319Z"
   },
   {
    "duration": 5,
    "start_time": "2022-04-06T11:20:49.319Z"
   },
   {
    "duration": 4,
    "start_time": "2022-04-06T12:45:40.052Z"
   },
   {
    "duration": 5,
    "start_time": "2022-04-06T12:47:23.858Z"
   },
   {
    "duration": 5,
    "start_time": "2022-04-06T12:47:55.060Z"
   }
  ],
  "kernelspec": {
   "display_name": "Python 3 (ipykernel)",
   "language": "python",
   "name": "python3"
  },
  "language_info": {
   "codemirror_mode": {
    "name": "ipython",
    "version": 3
   },
   "file_extension": ".py",
   "mimetype": "text/x-python",
   "name": "python",
   "nbconvert_exporter": "python",
   "pygments_lexer": "ipython3",
   "version": "3.9.7"
  },
  "toc": {
   "base_numbering": 1,
   "nav_menu": {},
   "number_sections": true,
   "sideBar": true,
   "skip_h1_title": true,
   "title_cell": "Table of Contents",
   "title_sidebar": "Contents",
   "toc_cell": false,
   "toc_position": {},
   "toc_section_display": true,
   "toc_window_display": false
  }
 },
 "nbformat": 4,
 "nbformat_minor": 2
}
